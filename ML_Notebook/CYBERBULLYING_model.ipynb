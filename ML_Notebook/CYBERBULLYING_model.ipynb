{
  "nbformat": 4,
  "nbformat_minor": 0,
  "metadata": {
    "colab": {
      "name": "CYBERBULLYING_model.ipynb",
      "provenance": [],
      "collapsed_sections": [],
      "include_colab_link": true
    },
    "kernelspec": {
      "display_name": "Python 3",
      "name": "python3"
    },
    "language_info": {
      "name": "python"
    }
  },
  "cells": [
    {
      "cell_type": "markdown",
      "metadata": {
        "id": "view-in-github",
        "colab_type": "text"
      },
      "source": [
        "<a href=\"https://colab.research.google.com/github/developer22-university/CyberBullying_on_Twitter/blob/main/ML_Notebook/CYBERBULLYING_model.ipynb\" target=\"_parent\"><img src=\"https://colab.research.google.com/assets/colab-badge.svg\" alt=\"Open In Colab\"/></a>"
      ]
    },
    {
      "cell_type": "markdown",
      "metadata": {
        "id": "n7DI7FsWZrlf"
      },
      "source": [
        "#**DETECTING CYBERBULLYING IN TWEETS**\n",
        "\n",
        "\n",
        "\n",
        "\n",
        "\n",
        "*This project aims to detect cyberbullying in tweets using ML Classification Algorithms.* "
      ]
    },
    {
      "cell_type": "markdown",
      "metadata": {
        "id": "YCoJ3iFPXoey"
      },
      "source": [
        "##***Data is taken from kaggle***\n",
        "\n",
        "**Hate Speech and Offensive Language Detection**\n",
        "\n",
        "**Publication:** Automated Hate Speech Detection and the Problem of Offensive Language\n",
        "\n",
        "**Authors:** Davidson, Thomas and Warmsley, Dana and Macy, Michael and Weber, Ingmar\n",
        "\n",
        "**GitHub Link:** https://github.com/developer22-university/CyberBullying_on_Twitter\n",
        "\n",
        "**Description:** The dataset has about 25,000 Tweets annotated by croud sourcing. As per the number of users labeling the Tweets, each is put in one of three classes - hate speech, offensive language and neither. We downloaded the dataset in Python from GitHub as a csv file."
      ]
    },
    {
      "cell_type": "code",
      "metadata": {
        "id": "5YHznBqcDyap"
      },
      "source": [
        "# dependencies\n",
        "import pandas as pd\n",
        "import tweepy\n",
        "import json\n",
        "import requests\n",
        "import os\n",
        "import numpy as np\n",
        "import matplotlib.pyplot as plt\n",
        "import seaborn as sns\n",
        "import zipfile\n",
        "import joblib\n",
        "from sklearn.model_selection import train_test_split, GridSearchCV\n",
        "from sklearn.feature_extraction.text import CountVectorizer\n",
        "from sklearn.metrics import f1_score, accuracy_score, precision_score, recall_score, make_scorer\n",
        "from time import time\n",
        "\n",
        "from sklearn.naive_bayes import MultinomialNB\n",
        "from sklearn.tree import DecisionTreeClassifier\n",
        "from sklearn.svm import LinearSVC\n",
        "from sklearn.ensemble import AdaBoostClassifier, RandomForestClassifier, BaggingClassifier\n",
        "from sklearn.linear_model import LogisticRegression, SGDClassifier\n",
        "from sklearn.neighbors import KNeighborsClassifier\n",
        "#from sklearn.externals import joblib"
      ],
      "execution_count": null,
      "outputs": []
    },
    {
      "cell_type": "code",
      "metadata": {
        "id": "XJ-UyMzspOTT"
      },
      "source": [
        "import warnings\n",
        "warnings.filterwarnings(\"ignore\")"
      ],
      "execution_count": null,
      "outputs": []
    },
    {
      "cell_type": "code",
      "metadata": {
        "id": "V9Wg8np3hlpN"
      },
      "source": [
        "\n",
        "# Insert secret tokens and keys from Twitter Developer account\n",
        "consumer_key = 'duGWSCBOQg8I2DrKF95T8YtzD'\n",
        "consumer_secret = 'Jjv96doWxOsojsHERaotb3EJIy7eaohGONrltXjbXnrLeAQY5U'\n",
        "access_token = '1238769792258998272-TcTVGnffOlYVBL8smJLIRsaTNWRGR9'\n",
        "access_secret = '2wIVwGxn4oDnEfnoXQlgILFxq7YeEqdKDyatXbgjL12Vl'\n",
        "\n",
        "# authenticate as per tweepy docs\n",
        "auth = tweepy.OAuthHandler(consumer_key, consumer_secret)\n",
        "auth.set_access_token(access_token, access_secret)\n",
        "\n",
        "# create api object\n",
        "api = tweepy.API(auth, wait_on_rate_limit = True, wait_on_rate_limit_notify = True)"
      ],
      "execution_count": null,
      "outputs": []
    },
    {
      "cell_type": "markdown",
      "metadata": {
        "id": "NgZoeRP2ooPE"
      },
      "source": [
        "##***Hate Speech and Offensive Language Detection***"
      ]
    },
    {
      "cell_type": "code",
      "metadata": {
        "id": "sc-aR8P0onsK"
      },
      "source": [
        "# url for GitHub dataset\n",
        "url = 'https://github.com/developer22-university/CyberBullying_on_Twitter/blob/main/data/labeled_data.csv'\n",
        "\n",
        "# use requests to establish connection\n",
        "response = requests.get(url)\n",
        "\n",
        "# create folder 'data'\n",
        "folder_name = 'data'\n",
        "if not os.path.exists(folder_name):\n",
        "    os.makedirs(folder_name)\n",
        "\n",
        "# download zip file\n",
        "with open(os.path.join(folder_name, 'public_data.csv'), mode = 'wb') as file:\n",
        "    file.write(response.content)"
      ],
      "execution_count": null,
      "outputs": []
    },
    {
      "cell_type": "code",
      "metadata": {
        "colab": {
          "base_uri": "https://localhost:8080/",
          "height": 206
        },
        "id": "UJN9fofpotL_",
        "outputId": "87eba297-b81b-4b2b-9b33-c6aa91bec7ba"
      },
      "source": [
        "# read in the data\n",
        "df2 = pd.read_csv('data/test.csv')\n",
        "\n",
        "# select only the column 'class'\n",
        "df2 = df2.iloc[:, -2:]\n",
        "df2.head()"
      ],
      "execution_count": null,
      "outputs": [
        {
          "output_type": "execute_result",
          "data": {
            "text/html": [
              "<div>\n",
              "<style scoped>\n",
              "    .dataframe tbody tr th:only-of-type {\n",
              "        vertical-align: middle;\n",
              "    }\n",
              "\n",
              "    .dataframe tbody tr th {\n",
              "        vertical-align: top;\n",
              "    }\n",
              "\n",
              "    .dataframe thead th {\n",
              "        text-align: right;\n",
              "    }\n",
              "</style>\n",
              "<table border=\"1\" class=\"dataframe\">\n",
              "  <thead>\n",
              "    <tr style=\"text-align: right;\">\n",
              "      <th></th>\n",
              "      <th>class</th>\n",
              "      <th>tweet</th>\n",
              "    </tr>\n",
              "  </thead>\n",
              "  <tbody>\n",
              "    <tr>\n",
              "      <th>0</th>\n",
              "      <td>1</td>\n",
              "      <td>@dina51814 @FlyoutChase bitch what? I don't gi...</td>\n",
              "    </tr>\n",
              "    <tr>\n",
              "      <th>1</th>\n",
              "      <td>1</td>\n",
              "      <td>RT @takeyaah: when his hoes thought it was ove...</td>\n",
              "    </tr>\n",
              "    <tr>\n",
              "      <th>2</th>\n",
              "      <td>1</td>\n",
              "      <td>@Marilyn_Munster Ha!!!! The shyt niggas tell h...</td>\n",
              "    </tr>\n",
              "    <tr>\n",
              "      <th>3</th>\n",
              "      <td>0</td>\n",
              "      <td>RT @Arbogucci: Brandon Phelps a hoe ass nigga ...</td>\n",
              "    </tr>\n",
              "    <tr>\n",
              "      <th>4</th>\n",
              "      <td>1</td>\n",
              "      <td>RT @WingsoverHoes: Niggas gossip like hoes I'm...</td>\n",
              "    </tr>\n",
              "  </tbody>\n",
              "</table>\n",
              "</div>"
            ],
            "text/plain": [
              "   class                                              tweet\n",
              "0      1  @dina51814 @FlyoutChase bitch what? I don't gi...\n",
              "1      1  RT @takeyaah: when his hoes thought it was ove...\n",
              "2      1  @Marilyn_Munster Ha!!!! The shyt niggas tell h...\n",
              "3      0  RT @Arbogucci: Brandon Phelps a hoe ass nigga ...\n",
              "4      1  RT @WingsoverHoes: Niggas gossip like hoes I'm..."
            ]
          },
          "metadata": {},
          "execution_count": 6
        }
      ]
    },
    {
      "cell_type": "code",
      "metadata": {
        "id": "jrft-xaxowZc"
      },
      "source": [
        "# map classes to labels\n",
        "df2['class'] = df2['class'].map({0: 'Hateful', 1: 'Offensive', 2: 'Non-offensive'})\n",
        "\n",
        "df2.rename(columns = {'class': 'label', 'tweet': 'full_text'}, inplace = True)"
      ],
      "execution_count": null,
      "outputs": []
    },
    {
      "cell_type": "code",
      "metadata": {
        "colab": {
          "base_uri": "https://localhost:8080/",
          "height": 206
        },
        "id": "V1-DFqN1ozr8",
        "outputId": "d6973fb7-c0e2-4814-b500-16f96f16cd91"
      },
      "source": [
        "\n",
        "df2.head()"
      ],
      "execution_count": null,
      "outputs": [
        {
          "output_type": "execute_result",
          "data": {
            "text/html": [
              "<div>\n",
              "<style scoped>\n",
              "    .dataframe tbody tr th:only-of-type {\n",
              "        vertical-align: middle;\n",
              "    }\n",
              "\n",
              "    .dataframe tbody tr th {\n",
              "        vertical-align: top;\n",
              "    }\n",
              "\n",
              "    .dataframe thead th {\n",
              "        text-align: right;\n",
              "    }\n",
              "</style>\n",
              "<table border=\"1\" class=\"dataframe\">\n",
              "  <thead>\n",
              "    <tr style=\"text-align: right;\">\n",
              "      <th></th>\n",
              "      <th>label</th>\n",
              "      <th>full_text</th>\n",
              "    </tr>\n",
              "  </thead>\n",
              "  <tbody>\n",
              "    <tr>\n",
              "      <th>0</th>\n",
              "      <td>Offensive</td>\n",
              "      <td>@dina51814 @FlyoutChase bitch what? I don't gi...</td>\n",
              "    </tr>\n",
              "    <tr>\n",
              "      <th>1</th>\n",
              "      <td>Offensive</td>\n",
              "      <td>RT @takeyaah: when his hoes thought it was ove...</td>\n",
              "    </tr>\n",
              "    <tr>\n",
              "      <th>2</th>\n",
              "      <td>Offensive</td>\n",
              "      <td>@Marilyn_Munster Ha!!!! The shyt niggas tell h...</td>\n",
              "    </tr>\n",
              "    <tr>\n",
              "      <th>3</th>\n",
              "      <td>Hateful</td>\n",
              "      <td>RT @Arbogucci: Brandon Phelps a hoe ass nigga ...</td>\n",
              "    </tr>\n",
              "    <tr>\n",
              "      <th>4</th>\n",
              "      <td>Offensive</td>\n",
              "      <td>RT @WingsoverHoes: Niggas gossip like hoes I'm...</td>\n",
              "    </tr>\n",
              "  </tbody>\n",
              "</table>\n",
              "</div>"
            ],
            "text/plain": [
              "       label                                          full_text\n",
              "0  Offensive  @dina51814 @FlyoutChase bitch what? I don't gi...\n",
              "1  Offensive  RT @takeyaah: when his hoes thought it was ove...\n",
              "2  Offensive  @Marilyn_Munster Ha!!!! The shyt niggas tell h...\n",
              "3    Hateful  RT @Arbogucci: Brandon Phelps a hoe ass nigga ...\n",
              "4  Offensive  RT @WingsoverHoes: Niggas gossip like hoes I'm..."
            ]
          },
          "metadata": {},
          "execution_count": 8
        }
      ]
    },
    {
      "cell_type": "code",
      "metadata": {
        "id": "jWpY8RNgo1mM"
      },
      "source": [
        "# save file\n",
        "df2.to_csv('public_data_labeled.csv', index = None)"
      ],
      "execution_count": null,
      "outputs": []
    },
    {
      "cell_type": "markdown",
      "metadata": {
        "id": "m4y_5upSZC2g"
      },
      "source": [
        "#**Detecting Cyberbullying in Tweets**"
      ]
    },
    {
      "cell_type": "markdown",
      "metadata": {
        "id": "h51_5IhRZfb5"
      },
      "source": [
        "### ***Loading and Analyzing the data***"
      ]
    },
    {
      "cell_type": "code",
      "metadata": {
        "id": "iHLbBnEhW9Sx"
      },
      "source": [
        "df_scraped = pd.read_csv('labeled_tweets.csv')\n",
        "df_public = pd.read_csv('public_data_labeled.csv')"
      ],
      "execution_count": null,
      "outputs": []
    },
    {
      "cell_type": "code",
      "metadata": {
        "id": "zqOYk3GZXCth"
      },
      "source": [
        "#df_scraped.drop_duplicates(inplace = True)\n",
        "df_scraped.drop('id', axis = 'columns', inplace = True)\n",
        "\n",
        "#df_public.drop_duplicates(inplace = True)"
      ],
      "execution_count": null,
      "outputs": []
    },
    {
      "cell_type": "code",
      "metadata": {
        "colab": {
          "base_uri": "https://localhost:8080/",
          "height": 112
        },
        "id": "KX1m16g4XE2x",
        "outputId": "657c2e5a-9dc9-42f9-da13-e37436758792"
      },
      "source": [
        "df_scraped = df_scraped.dropna()\n",
        "df_scraped.head(2)"
      ],
      "execution_count": null,
      "outputs": [
        {
          "output_type": "execute_result",
          "data": {
            "text/html": [
              "<div>\n",
              "<style scoped>\n",
              "    .dataframe tbody tr th:only-of-type {\n",
              "        vertical-align: middle;\n",
              "    }\n",
              "\n",
              "    .dataframe tbody tr th {\n",
              "        vertical-align: top;\n",
              "    }\n",
              "\n",
              "    .dataframe thead th {\n",
              "        text-align: right;\n",
              "    }\n",
              "</style>\n",
              "<table border=\"1\" class=\"dataframe\">\n",
              "  <thead>\n",
              "    <tr style=\"text-align: right;\">\n",
              "      <th></th>\n",
              "      <th>label</th>\n",
              "      <th>full_text</th>\n",
              "    </tr>\n",
              "  </thead>\n",
              "  <tbody>\n",
              "    <tr>\n",
              "      <th>0</th>\n",
              "      <td>Offensive</td>\n",
              "      <td>So Drasko just said he was impressed the girls...</td>\n",
              "    </tr>\n",
              "    <tr>\n",
              "      <th>1</th>\n",
              "      <td>Offensive</td>\n",
              "      <td>So Drasko just said he was impressed the girls...</td>\n",
              "    </tr>\n",
              "  </tbody>\n",
              "</table>\n",
              "</div>"
            ],
            "text/plain": [
              "       label                                          full_text\n",
              "0  Offensive  So Drasko just said he was impressed the girls...\n",
              "1  Offensive  So Drasko just said he was impressed the girls..."
            ]
          },
          "metadata": {},
          "execution_count": 65
        }
      ]
    },
    {
      "cell_type": "code",
      "metadata": {
        "colab": {
          "base_uri": "https://localhost:8080/",
          "height": 112
        },
        "id": "8UasZJIXXHIP",
        "outputId": "b6d508b9-e480-4faa-aca4-7a6a5d79f9e5"
      },
      "source": [
        "df_public = df_public.dropna()\n",
        "df_public.head(2)"
      ],
      "execution_count": null,
      "outputs": [
        {
          "output_type": "execute_result",
          "data": {
            "text/html": [
              "<div>\n",
              "<style scoped>\n",
              "    .dataframe tbody tr th:only-of-type {\n",
              "        vertical-align: middle;\n",
              "    }\n",
              "\n",
              "    .dataframe tbody tr th {\n",
              "        vertical-align: top;\n",
              "    }\n",
              "\n",
              "    .dataframe thead th {\n",
              "        text-align: right;\n",
              "    }\n",
              "</style>\n",
              "<table border=\"1\" class=\"dataframe\">\n",
              "  <thead>\n",
              "    <tr style=\"text-align: right;\">\n",
              "      <th></th>\n",
              "      <th>label</th>\n",
              "      <th>full_text</th>\n",
              "    </tr>\n",
              "  </thead>\n",
              "  <tbody>\n",
              "    <tr>\n",
              "      <th>0</th>\n",
              "      <td>Offensive</td>\n",
              "      <td>@dina51814 @FlyoutChase bitch what? I don't gi...</td>\n",
              "    </tr>\n",
              "    <tr>\n",
              "      <th>1</th>\n",
              "      <td>Offensive</td>\n",
              "      <td>RT @takeyaah: when his hoes thought it was ove...</td>\n",
              "    </tr>\n",
              "  </tbody>\n",
              "</table>\n",
              "</div>"
            ],
            "text/plain": [
              "       label                                          full_text\n",
              "0  Offensive  @dina51814 @FlyoutChase bitch what? I don't gi...\n",
              "1  Offensive  RT @takeyaah: when his hoes thought it was ove..."
            ]
          },
          "metadata": {},
          "execution_count": 66
        }
      ]
    },
    {
      "cell_type": "code",
      "metadata": {
        "id": "4ybrh098XKkm"
      },
      "source": [
        "df = pd.concat([df_scraped, df_public])"
      ],
      "execution_count": null,
      "outputs": []
    },
    {
      "cell_type": "code",
      "metadata": {
        "colab": {
          "base_uri": "https://localhost:8080/",
          "height": 112
        },
        "id": "sbE3uNWB5nE2",
        "outputId": "433df455-2657-4b6b-cafa-67d3fbe7e8da"
      },
      "source": [
        "df = df.dropna()\n",
        "df.head(2)"
      ],
      "execution_count": null,
      "outputs": [
        {
          "output_type": "execute_result",
          "data": {
            "text/html": [
              "<div>\n",
              "<style scoped>\n",
              "    .dataframe tbody tr th:only-of-type {\n",
              "        vertical-align: middle;\n",
              "    }\n",
              "\n",
              "    .dataframe tbody tr th {\n",
              "        vertical-align: top;\n",
              "    }\n",
              "\n",
              "    .dataframe thead th {\n",
              "        text-align: right;\n",
              "    }\n",
              "</style>\n",
              "<table border=\"1\" class=\"dataframe\">\n",
              "  <thead>\n",
              "    <tr style=\"text-align: right;\">\n",
              "      <th></th>\n",
              "      <th>label</th>\n",
              "      <th>full_text</th>\n",
              "    </tr>\n",
              "  </thead>\n",
              "  <tbody>\n",
              "    <tr>\n",
              "      <th>0</th>\n",
              "      <td>Offensive</td>\n",
              "      <td>So Drasko just said he was impressed the girls...</td>\n",
              "    </tr>\n",
              "    <tr>\n",
              "      <th>1</th>\n",
              "      <td>Offensive</td>\n",
              "      <td>So Drasko just said he was impressed the girls...</td>\n",
              "    </tr>\n",
              "  </tbody>\n",
              "</table>\n",
              "</div>"
            ],
            "text/plain": [
              "       label                                          full_text\n",
              "0  Offensive  So Drasko just said he was impressed the girls...\n",
              "1  Offensive  So Drasko just said he was impressed the girls..."
            ]
          },
          "metadata": {},
          "execution_count": 68
        }
      ]
    },
    {
      "cell_type": "code",
      "metadata": {
        "colab": {
          "base_uri": "https://localhost:8080/"
        },
        "id": "0La4w_D8XM1I",
        "outputId": "b9c748af-3a76-423a-f39a-e040b395daed"
      },
      "source": [
        "df.shape"
      ],
      "execution_count": null,
      "outputs": [
        {
          "output_type": "execute_result",
          "data": {
            "text/plain": [
              "(16634, 2)"
            ]
          },
          "metadata": {},
          "execution_count": 69
        }
      ]
    },
    {
      "cell_type": "code",
      "metadata": {
        "id": "mbxmK9Bf6Ulj"
      },
      "source": [
        "df.to_csv('final.csv', index = None)"
      ],
      "execution_count": null,
      "outputs": []
    },
    {
      "cell_type": "code",
      "metadata": {
        "colab": {
          "base_uri": "https://localhost:8080/",
          "height": 429
        },
        "id": "DqNh-xvIXPiU",
        "outputId": "58dcbde0-94a4-4cf2-968b-3df4bd61b79c"
      },
      "source": [
        "plt.figure(figsize = (7,7))\n",
        "sorted_counts = df['label'].value_counts()\n",
        "plt.pie(sorted_counts, labels = sorted_counts.index, startangle = 90, counterclock = False, wedgeprops = {'width' : 0.6},\n",
        "       autopct='%1.1f%%', pctdistance = 0.7, textprops = {'color': 'black', 'fontsize' : 15}, shadow = True,\n",
        "        colors = sns.color_palette(\"Paired\")[7:])\n",
        "plt.text(x = -0.35, y = 0, s = 'Total Tweets: {}'.format(df.shape[0]))\n",
        "plt.title('Distribution of Tweets in the Dataset', fontsize = 16);"
      ],
      "execution_count": null,
      "outputs": [
        {
          "output_type": "display_data",
          "data": {
            "image/png": "[encoded data removed]",
            "text/plain": [
              "<Figure size 504x504 with 1 Axes>"
            ]
          },
          "metadata": {}
        }
      ]
    },
    {
      "cell_type": "code",
      "metadata": {
        "id": "t052rk0HXRz8"
      },
      "source": [
        "df['label'] = df.label.map({0: 'Hateful', 1: 'Offensive', 2: 'Non-offensive'})"
      ],
      "execution_count": null,
      "outputs": []
    },
    {
      "cell_type": "markdown",
      "metadata": {
        "id": "rpkZzI_rZrRs"
      },
      "source": [
        "##**Implementing a training and predicting Pipeline**\n",
        "\n",
        "###**Separate training and testing data:**"
      ]
    },
    {
      "cell_type": "code",
      "metadata": {
        "colab": {
          "base_uri": "https://localhost:8080/",
          "height": 112
        },
        "id": "2QEEM76w8cHG",
        "outputId": "753b06f5-1add-43b0-cb7a-2e432017fc16"
      },
      "source": [
        "df = pd.read_csv('final.csv')\n",
        "df.head(n=2)"
      ],
      "execution_count": null,
      "outputs": [
        {
          "output_type": "execute_result",
          "data": {
            "text/html": [
              "<div>\n",
              "<style scoped>\n",
              "    .dataframe tbody tr th:only-of-type {\n",
              "        vertical-align: middle;\n",
              "    }\n",
              "\n",
              "    .dataframe tbody tr th {\n",
              "        vertical-align: top;\n",
              "    }\n",
              "\n",
              "    .dataframe thead th {\n",
              "        text-align: right;\n",
              "    }\n",
              "</style>\n",
              "<table border=\"1\" class=\"dataframe\">\n",
              "  <thead>\n",
              "    <tr style=\"text-align: right;\">\n",
              "      <th></th>\n",
              "      <th>label</th>\n",
              "      <th>full_text</th>\n",
              "    </tr>\n",
              "  </thead>\n",
              "  <tbody>\n",
              "    <tr>\n",
              "      <th>0</th>\n",
              "      <td>Offensive</td>\n",
              "      <td>So Drasko just said he was impressed the girls...</td>\n",
              "    </tr>\n",
              "    <tr>\n",
              "      <th>1</th>\n",
              "      <td>Offensive</td>\n",
              "      <td>So Drasko just said he was impressed the girls...</td>\n",
              "    </tr>\n",
              "  </tbody>\n",
              "</table>\n",
              "</div>"
            ],
            "text/plain": [
              "       label                                          full_text\n",
              "0  Offensive  So Drasko just said he was impressed the girls...\n",
              "1  Offensive  So Drasko just said he was impressed the girls..."
            ]
          },
          "metadata": {},
          "execution_count": 73
        }
      ]
    },
    {
      "cell_type": "code",
      "metadata": {
        "colab": {
          "base_uri": "https://localhost:8080/"
        },
        "id": "UFgZ6BYQXUq0",
        "outputId": "d43ed5c9-a531-45cc-bcac-879bcd949bef"
      },
      "source": [
        "X_train, X_test, y_train, y_test = train_test_split(df['full_text'], \n",
        "                                                    df['label'], \n",
        "                                                    random_state=42)\n",
        "\n",
        "print('Number of rows in the total set: {}'.format(df.shape[0]))\n",
        "print('Number of rows in the training set: {}'.format(X_train.shape[0]))\n",
        "print('Number of rows in the test set: {}'.format(X_test.shape[0]))"
      ],
      "execution_count": null,
      "outputs": [
        {
          "output_type": "stream",
          "name": "stdout",
          "text": [
            "Number of rows in the total set: 16634\n",
            "Number of rows in the training set: 12475\n",
            "Number of rows in the test set: 4159\n"
          ]
        }
      ]
    },
    {
      "cell_type": "markdown",
      "metadata": {
        "id": "T7Sr-4gHZ4QB"
      },
      "source": [
        "####**Vectorize the data:**"
      ]
    },
    {
      "cell_type": "code",
      "metadata": {
        "id": "5abrhy9BXXD-"
      },
      "source": [
        "# Instantiate the CountVectorizer method\n",
        "count_vector = CountVectorizer(stop_words = 'english', lowercase = True)\n",
        "\n",
        "# Fit the training data and then return the matrix\n",
        "training_data = count_vector.fit_transform(X_train.values.astype('U'))\n",
        "\n",
        "# Transform testing data and return the matrix. Note we are not fitting the testing data into the CountVectorizer()\n",
        "testing_data = count_vector.transform(X_test.values.astype('U'))"
      ],
      "execution_count": null,
      "outputs": []
    },
    {
      "cell_type": "markdown",
      "metadata": {
        "id": "cecdgG92Z-Fl"
      },
      "source": [
        "####**Implement Pipeline:**"
      ]
    },
    {
      "cell_type": "code",
      "metadata": {
        "id": "vdRFrDp5Xaov"
      },
      "source": [
        "def pipeline(learner_list, X_train, y_train, X_test, y_test): \n",
        "    '''\n",
        "    inputs:\n",
        "       - learner: the learning algorithm to be trained and predicted on\n",
        "       - X_train: features training set\n",
        "       - y_train: income training set\n",
        "       - X_test: features testing set\n",
        "       - y_test: income testing set\n",
        "    '''\n",
        "    \n",
        "    # Get length of Training Data:\n",
        "    size = len(y_train)\n",
        "    \n",
        "    results = {}\n",
        "    final_results = []\n",
        "    \n",
        "    for learner in learner_list:\n",
        "        \n",
        "        # Store the learner name:\n",
        "        results['Algorithm'] = learner.__class__.__name__\n",
        "\n",
        "        # Fit the learner:\n",
        "        start = time() # Get start time\n",
        "        print(\"Training {}\".format(learner.__class__.__name__))\n",
        "        learner = learner.fit(X_train, y_train)\n",
        "        end = time() # Get end time\n",
        "\n",
        "        # Store the training time\n",
        "        results['Training Time'] = end - start\n",
        "\n",
        "        start = time() # Get start time\n",
        "        predictions_test = learner.predict(X_test)\n",
        "        predictions_train = learner.predict(X_train)\n",
        "        end = time() # Get end time\n",
        "\n",
        "        # Store the prediction time\n",
        "        results['Prediction Time'] = end - start\n",
        "\n",
        "        # Compute the Accuracy on Test Set\n",
        "        results['Accuracy: Test'] = accuracy_score(y_test, predictions_test)\n",
        "\n",
        "        # Compute the Accuracy on Training Set\n",
        "        results['Accuracy: Train'] = accuracy_score(y_train, predictions_train)\n",
        "\n",
        "        # Compute the F1 Score on Test Set\n",
        "        results['F1 Score: Test'] = f1_score(y_test, predictions_test,average='micro')\n",
        "\n",
        "        # Compute the F1 Score on Training Set\n",
        "        results['F1 Score: Train'] = f1_score(y_train, predictions_train,average='micro')\n",
        "\n",
        "        # Compute the Precision on Test Set\n",
        "        results['Precision: Test'] = precision_score(y_test, predictions_test,average='micro')\n",
        "\n",
        "        # Compute the Precision on Training Set\n",
        "        results['Precision: Train'] = precision_score(y_train, predictions_train,average='micro')\n",
        "\n",
        "        # Compute the Recall on Test Set\n",
        "        results['Recall: Test'] = recall_score(y_test, predictions_test,average='micro')\n",
        "\n",
        "        # Compute the Recall on Training Set\n",
        "        results['Recall: Train'] = recall_score(y_train, predictions_train,average='micro')\n",
        "\n",
        "        # Success\n",
        "        print(\"Training {} finished in {:.2f} sec\".format(learner.__class__.__name__, results['Training Time']))\n",
        "        print('----------------------------------------------------')\n",
        "        \n",
        "        final_results.append(results.copy())\n",
        "    # Return a dataframe of the results\n",
        "    return final_results"
      ],
      "execution_count": null,
      "outputs": []
    },
    {
      "cell_type": "markdown",
      "metadata": {
        "id": "mzb2u2wyaFMd"
      },
      "source": [
        "####**Put Algorithms in Pipeline:**"
      ]
    },
    {
      "cell_type": "code",
      "metadata": {
        "id": "1G4vc3gCXfdA"
      },
      "source": [
        "# make a list of models\n",
        "models = [MultinomialNB(), DecisionTreeClassifier(), LinearSVC(), AdaBoostClassifier(), \n",
        "          RandomForestClassifier(), BaggingClassifier(),\n",
        "         SGDClassifier(), KNeighborsClassifier()]"
      ],
      "execution_count": null,
      "outputs": []
    },
    {
      "cell_type": "code",
      "metadata": {
        "colab": {
          "base_uri": "https://localhost:8080/"
        },
        "id": "616n6sddXiPh",
        "outputId": "c0f383e0-668e-493d-9f28-9dbac3838acf"
      },
      "source": [
        "re = pipeline(models, training_data, y_train, testing_data, y_test)\n",
        "results = pd.DataFrame(re)\n",
        "results = results.reindex(columns = ['Algorithm', 'Accuracy: Test', 'Precision: Test', 'Recall: Test', 'F1 Score: Test', 'Prediction Time',\n",
        "                          'Accuracy: Train', 'Precision: Train', 'Recall: Train', 'F1 Score: Train', 'Training Time'])"
      ],
      "execution_count": null,
      "outputs": [
        {
          "output_type": "stream",
          "name": "stdout",
          "text": [
            "Training MultinomialNB\n",
            "Training MultinomialNB finished in 0.04 sec\n",
            "----------------------------------------------------\n",
            "Training DecisionTreeClassifier\n",
            "Training DecisionTreeClassifier finished in 2.66 sec\n",
            "----------------------------------------------------\n",
            "Training LinearSVC\n",
            "Training LinearSVC finished in 0.45 sec\n",
            "----------------------------------------------------\n",
            "Training AdaBoostClassifier\n",
            "Training AdaBoostClassifier finished in 1.44 sec\n",
            "----------------------------------------------------\n",
            "Training RandomForestClassifier\n",
            "Training RandomForestClassifier finished in 21.13 sec\n",
            "----------------------------------------------------\n",
            "Training BaggingClassifier\n",
            "Training BaggingClassifier finished in 17.00 sec\n",
            "----------------------------------------------------\n",
            "Training SGDClassifier\n",
            "Training SGDClassifier finished in 0.13 sec\n",
            "----------------------------------------------------\n",
            "Training KNeighborsClassifier\n",
            "Training KNeighborsClassifier finished in 0.01 sec\n",
            "----------------------------------------------------\n"
          ]
        }
      ]
    },
    {
      "cell_type": "code",
      "metadata": {
        "id": "dgucHMHvXlgX"
      },
      "source": [
        "results = results.reindex(columns = ['Algorithm', 'Accuracy: Test', 'Precision: Test', 'Recall: Test', 'F1 Score: Test', 'Prediction Time',\n",
        "                          'Accuracy: Train', 'Precision: Train', 'Recall: Train', 'F1 Score: Train', 'Training Time'])\n",
        "\n",
        "results.sort_values(by = 'F1 Score: Test', inplace = True, ascending = False)"
      ],
      "execution_count": null,
      "outputs": []
    },
    {
      "cell_type": "markdown",
      "metadata": {
        "id": "VTXGq3uzaM4K"
      },
      "source": [
        "##**Analyze the results of the Pipeline**\n"
      ]
    },
    {
      "cell_type": "code",
      "metadata": {
        "colab": {
          "base_uri": "https://localhost:8080/",
          "height": 355
        },
        "id": "HTNa26Z3XpDi",
        "outputId": "7b9d7992-338c-43e3-b597-3c411f958a62"
      },
      "source": [
        "results.reset_index(drop = True)"
      ],
      "execution_count": null,
      "outputs": [
        {
          "output_type": "execute_result",
          "data": {
            "text/html": [
              "<div>\n",
              "<style scoped>\n",
              "    .dataframe tbody tr th:only-of-type {\n",
              "        vertical-align: middle;\n",
              "    }\n",
              "\n",
              "    .dataframe tbody tr th {\n",
              "        vertical-align: top;\n",
              "    }\n",
              "\n",
              "    .dataframe thead th {\n",
              "        text-align: right;\n",
              "    }\n",
              "</style>\n",
              "<table border=\"1\" class=\"dataframe\">\n",
              "  <thead>\n",
              "    <tr style=\"text-align: right;\">\n",
              "      <th></th>\n",
              "      <th>Algorithm</th>\n",
              "      <th>Accuracy: Test</th>\n",
              "      <th>Precision: Test</th>\n",
              "      <th>Recall: Test</th>\n",
              "      <th>F1 Score: Test</th>\n",
              "      <th>Prediction Time</th>\n",
              "      <th>Accuracy: Train</th>\n",
              "      <th>Precision: Train</th>\n",
              "      <th>Recall: Train</th>\n",
              "      <th>F1 Score: Train</th>\n",
              "      <th>Training Time</th>\n",
              "    </tr>\n",
              "  </thead>\n",
              "  <tbody>\n",
              "    <tr>\n",
              "      <th>0</th>\n",
              "      <td>SGDClassifier</td>\n",
              "      <td>0.882905</td>\n",
              "      <td>0.882905</td>\n",
              "      <td>0.882905</td>\n",
              "      <td>0.882905</td>\n",
              "      <td>0.004220</td>\n",
              "      <td>0.985331</td>\n",
              "      <td>0.985331</td>\n",
              "      <td>0.985331</td>\n",
              "      <td>0.985331</td>\n",
              "      <td>0.134521</td>\n",
              "    </tr>\n",
              "    <tr>\n",
              "      <th>1</th>\n",
              "      <td>BaggingClassifier</td>\n",
              "      <td>0.877615</td>\n",
              "      <td>0.877615</td>\n",
              "      <td>0.877615</td>\n",
              "      <td>0.877615</td>\n",
              "      <td>0.163257</td>\n",
              "      <td>0.982846</td>\n",
              "      <td>0.982846</td>\n",
              "      <td>0.982846</td>\n",
              "      <td>0.982846</td>\n",
              "      <td>16.998571</td>\n",
              "    </tr>\n",
              "    <tr>\n",
              "      <th>2</th>\n",
              "      <td>RandomForestClassifier</td>\n",
              "      <td>0.875451</td>\n",
              "      <td>0.875451</td>\n",
              "      <td>0.875451</td>\n",
              "      <td>0.875451</td>\n",
              "      <td>1.602307</td>\n",
              "      <td>0.996313</td>\n",
              "      <td>0.996313</td>\n",
              "      <td>0.996313</td>\n",
              "      <td>0.996313</td>\n",
              "      <td>21.130960</td>\n",
              "    </tr>\n",
              "    <tr>\n",
              "      <th>3</th>\n",
              "      <td>DecisionTreeClassifier</td>\n",
              "      <td>0.874730</td>\n",
              "      <td>0.874730</td>\n",
              "      <td>0.874730</td>\n",
              "      <td>0.874730</td>\n",
              "      <td>0.018844</td>\n",
              "      <td>0.996393</td>\n",
              "      <td>0.996393</td>\n",
              "      <td>0.996393</td>\n",
              "      <td>0.996393</td>\n",
              "      <td>2.661775</td>\n",
              "    </tr>\n",
              "    <tr>\n",
              "      <th>4</th>\n",
              "      <td>LinearSVC</td>\n",
              "      <td>0.873046</td>\n",
              "      <td>0.873046</td>\n",
              "      <td>0.873046</td>\n",
              "      <td>0.873046</td>\n",
              "      <td>0.002268</td>\n",
              "      <td>0.994629</td>\n",
              "      <td>0.994629</td>\n",
              "      <td>0.994629</td>\n",
              "      <td>0.994629</td>\n",
              "      <td>0.451654</td>\n",
              "    </tr>\n",
              "    <tr>\n",
              "      <th>5</th>\n",
              "      <td>MultinomialNB</td>\n",
              "      <td>0.862948</td>\n",
              "      <td>0.862948</td>\n",
              "      <td>0.862948</td>\n",
              "      <td>0.862948</td>\n",
              "      <td>0.002875</td>\n",
              "      <td>0.928577</td>\n",
              "      <td>0.928577</td>\n",
              "      <td>0.928577</td>\n",
              "      <td>0.928577</td>\n",
              "      <td>0.044554</td>\n",
              "    </tr>\n",
              "    <tr>\n",
              "      <th>6</th>\n",
              "      <td>AdaBoostClassifier</td>\n",
              "      <td>0.842991</td>\n",
              "      <td>0.842991</td>\n",
              "      <td>0.842991</td>\n",
              "      <td>0.842991</td>\n",
              "      <td>0.205365</td>\n",
              "      <td>0.845050</td>\n",
              "      <td>0.845050</td>\n",
              "      <td>0.845050</td>\n",
              "      <td>0.845050</td>\n",
              "      <td>1.439211</td>\n",
              "    </tr>\n",
              "    <tr>\n",
              "      <th>7</th>\n",
              "      <td>KNeighborsClassifier</td>\n",
              "      <td>0.801395</td>\n",
              "      <td>0.801395</td>\n",
              "      <td>0.801395</td>\n",
              "      <td>0.801395</td>\n",
              "      <td>5.065227</td>\n",
              "      <td>0.850261</td>\n",
              "      <td>0.850261</td>\n",
              "      <td>0.850261</td>\n",
              "      <td>0.850261</td>\n",
              "      <td>0.013181</td>\n",
              "    </tr>\n",
              "  </tbody>\n",
              "</table>\n",
              "</div>"
            ],
            "text/plain": [
              "                Algorithm  Accuracy: Test  ...  F1 Score: Train  Training Time\n",
              "0           SGDClassifier        0.882905  ...         0.985331       0.134521\n",
              "1       BaggingClassifier        0.877615  ...         0.982846      16.998571\n",
              "2  RandomForestClassifier        0.875451  ...         0.996313      21.130960\n",
              "3  DecisionTreeClassifier        0.874730  ...         0.996393       2.661775\n",
              "4               LinearSVC        0.873046  ...         0.994629       0.451654\n",
              "5           MultinomialNB        0.862948  ...         0.928577       0.044554\n",
              "6      AdaBoostClassifier        0.842991  ...         0.845050       1.439211\n",
              "7    KNeighborsClassifier        0.801395  ...         0.850261       0.013181\n",
              "\n",
              "[8 rows x 11 columns]"
            ]
          },
          "metadata": {},
          "execution_count": 80
        }
      ]
    },
    {
      "cell_type": "code",
      "metadata": {
        "colab": {
          "base_uri": "https://localhost:8080/",
          "height": 147
        },
        "id": "NYCtb9UXXsL-",
        "outputId": "fee18565-79e5-4dd5-b391-fe45e4ea1310"
      },
      "source": [
        "results.describe().loc[['min', 'max'], :]"
      ],
      "execution_count": null,
      "outputs": [
        {
          "output_type": "execute_result",
          "data": {
            "text/html": [
              "<div>\n",
              "<style scoped>\n",
              "    .dataframe tbody tr th:only-of-type {\n",
              "        vertical-align: middle;\n",
              "    }\n",
              "\n",
              "    .dataframe tbody tr th {\n",
              "        vertical-align: top;\n",
              "    }\n",
              "\n",
              "    .dataframe thead th {\n",
              "        text-align: right;\n",
              "    }\n",
              "</style>\n",
              "<table border=\"1\" class=\"dataframe\">\n",
              "  <thead>\n",
              "    <tr style=\"text-align: right;\">\n",
              "      <th></th>\n",
              "      <th>Accuracy: Test</th>\n",
              "      <th>Precision: Test</th>\n",
              "      <th>Recall: Test</th>\n",
              "      <th>F1 Score: Test</th>\n",
              "      <th>Prediction Time</th>\n",
              "      <th>Accuracy: Train</th>\n",
              "      <th>Precision: Train</th>\n",
              "      <th>Recall: Train</th>\n",
              "      <th>F1 Score: Train</th>\n",
              "      <th>Training Time</th>\n",
              "    </tr>\n",
              "  </thead>\n",
              "  <tbody>\n",
              "    <tr>\n",
              "      <th>min</th>\n",
              "      <td>0.801395</td>\n",
              "      <td>0.801395</td>\n",
              "      <td>0.801395</td>\n",
              "      <td>0.801395</td>\n",
              "      <td>0.002268</td>\n",
              "      <td>0.845050</td>\n",
              "      <td>0.845050</td>\n",
              "      <td>0.845050</td>\n",
              "      <td>0.845050</td>\n",
              "      <td>0.013181</td>\n",
              "    </tr>\n",
              "    <tr>\n",
              "      <th>max</th>\n",
              "      <td>0.882905</td>\n",
              "      <td>0.882905</td>\n",
              "      <td>0.882905</td>\n",
              "      <td>0.882905</td>\n",
              "      <td>5.065227</td>\n",
              "      <td>0.996393</td>\n",
              "      <td>0.996393</td>\n",
              "      <td>0.996393</td>\n",
              "      <td>0.996393</td>\n",
              "      <td>21.130960</td>\n",
              "    </tr>\n",
              "  </tbody>\n",
              "</table>\n",
              "</div>"
            ],
            "text/plain": [
              "     Accuracy: Test  Precision: Test  ...  F1 Score: Train  Training Time\n",
              "min        0.801395         0.801395  ...         0.845050       0.013181\n",
              "max        0.882905         0.882905  ...         0.996393      21.130960\n",
              "\n",
              "[2 rows x 10 columns]"
            ]
          },
          "metadata": {},
          "execution_count": 81
        }
      ]
    },
    {
      "cell_type": "code",
      "metadata": {
        "id": "SKZlaEGKXu5W"
      },
      "source": [
        "# store the best metric scores\n",
        "best_acc = results[results['Accuracy: Test'] == results['Accuracy: Test'].max()]\n",
        "best_f1 = results[results['F1 Score: Test'] == results['F1 Score: Test'].max()]\n",
        "best_precision = results[results['Precision: Test'] == results['Precision: Test'].max()]\n",
        "best_recall = results[results['Recall: Test'] == results['Recall: Test'].max()]"
      ],
      "execution_count": null,
      "outputs": []
    },
    {
      "cell_type": "code",
      "metadata": {
        "colab": {
          "base_uri": "https://localhost:8080/",
          "height": 349
        },
        "id": "A_5qUJC4XxCg",
        "outputId": "f4ce1fb4-26db-4b81-c19f-22194d0e7126"
      },
      "source": [
        "sns.set_style('darkgrid')\n",
        "plt.figure(figsize = (17, 7))\n",
        "\n",
        "barWidth = 0.17\n",
        " \n",
        "# set height of bar\n",
        "bars1 = results['Accuracy: Test']\n",
        "bars2 = results['F1 Score: Test']\n",
        "bars3 = results['Precision: Test']\n",
        "bars4 = results['Recall: Test']\n",
        "\n",
        " \n",
        "# Set position of bar on X axis\n",
        "r1 = np.arange(len(bars1))\n",
        "r2 = [x + barWidth for x in r1]\n",
        "r3 = [x + barWidth for x in r2]\n",
        "r4 = [x + barWidth for x in r3]\n",
        "\n",
        " \n",
        "# Make the plot\n",
        "pal = sns.color_palette()\n",
        "plt.bar(r1, bars1, color= pal[0], width=barWidth, edgecolor='white', label='Test Accuracy')\n",
        "plt.bar(r2, bars2, color= pal[1], width=barWidth, edgecolor='white', label='F1 Score')\n",
        "plt.bar(r3, bars3, color= pal[2], width=barWidth, edgecolor='white', label='Precision')\n",
        "plt.bar(r4, bars4, color= pal[4], width=barWidth, edgecolor='white', label='Recall')\n",
        "\n",
        " \n",
        "# Add xticks on the middle of the group bars\n",
        "plt.xlabel('Algorithm', fontweight='bold', fontsize = 13)\n",
        "plt.ylabel('Score', fontweight = 'bold', fontsize = 13)\n",
        "plt.xticks([r + barWidth for r in range(len(bars1))], results['Algorithm'], rotation = 15, fontsize = 11)\n",
        " \n",
        "# Create legend & Show graphic\n",
        "plt.legend(fontsize = 13)\n",
        "\n",
        "textstr = '\\n'.join(['Best Accuracy: {:.3f} - {}'.format(best_acc['Accuracy: Test'].values[0], best_acc['Algorithm'].values[0]), \n",
        "                     'Best F1 Score: {:.3f} - {}'.format(best_f1['F1 Score: Test'].values[0], best_f1['Algorithm'].values[0]),\n",
        "                   'Best Precision: {:.3f} - {}'.format(best_precision['Precision: Test'].values[0], best_precision['Algorithm'].values[0]), \n",
        "                    'Best Recall: {:.3f} - {}'.format(best_recall['Recall: Test'].values[0], best_recall['Algorithm'].values[0])])\n",
        "props = dict(boxstyle='round', facecolor='lightgrey', alpha=0.5)\n",
        "\n",
        "#place a text box\n",
        "plt.text(9.2, 1, textstr, fontsize=14,\n",
        "        verticalalignment='top', bbox=props)\n",
        "\n",
        "plt.title('Classification Summary of Algorithms', fontweight = 'bold', fontsize = 17);"
      ],
      "execution_count": null,
      "outputs": [
        {
          "output_type": "display_data",
          "data": {
            "image/png": "[encoded data removed]",
            "text/plain": [
              "<Figure size 1224x504 with 1 Axes>"
            ]
          },
          "metadata": {}
        }
      ]
    },
    {
      "cell_type": "code",
      "metadata": {
        "id": "tYBpZb9RX15H"
      },
      "source": [
        "\n",
        "# store the best/worst performance time\n",
        "best_train_time = results[results['Training Time'] == results['Training Time'].min()]\n",
        "worst_train_time = results[results['Training Time'] == results['Training Time'].max()]\n",
        "best_prediction_time = results[results['Prediction Time'] == results['Prediction Time'].min()]\n",
        "worst_prediction_time = results[results['Prediction Time'] == results['Prediction Time'].max()]"
      ],
      "execution_count": null,
      "outputs": []
    },
    {
      "cell_type": "code",
      "metadata": {
        "colab": {
          "base_uri": "https://localhost:8080/",
          "height": 602
        },
        "id": "MSEwwt3cX4wM",
        "outputId": "17db43ce-7642-4184-a372-801e830556ff"
      },
      "source": [
        "plt.figure(figsize = (12, 7))\n",
        "\n",
        "barWidth = 0.17\n",
        " \n",
        "# set height of bar\n",
        "bars1 = results['Training Time']\n",
        "bars2 = results['Prediction Time']\n",
        " \n",
        "# Set position of bar on X axis\n",
        "r1 = np.arange(len(bars1))\n",
        "r2 = [x + barWidth for x in r1]\n",
        " \n",
        "# Make the plot\n",
        "plt.bar(r1, bars1, color= pal[0], width=barWidth, edgecolor='white', label='Training Time')\n",
        "plt.bar(r2, bars2, color= pal[1], width=barWidth, edgecolor='white', label='Prediction Time')\n",
        " \n",
        "# Add xticks on the middle of the group bars\n",
        "plt.xlabel('Algorithm', fontweight='bold', fontsize = 13)\n",
        "plt.ylabel('Time (seconds)', fontweight = 'bold', fontsize = 13)\n",
        "plt.xticks([r + barWidth for r in range(len(bars1))], results['Algorithm'], rotation = 15, fontsize = 11)\n",
        " \n",
        "# Create legend & Show graphic\n",
        "plt.legend(fontsize = 13)\n",
        "\n",
        "textstr = '\\n'.join(('Best Training Time: {:.3f} - {}'.format(best_train_time['Training Time'].values[0], best_train_time['Algorithm'].values[0]), \n",
        "                     'Worst Training Time: {:.3f} - {}'.format(worst_train_time['Training Time'].values[0], worst_train_time['Algorithm'].values[0]),\n",
        "                   'Best Prediction Time: {:.3f} - {}'.format(best_prediction_time['Training Time'].values[0], best_prediction_time['Algorithm'].values[0]), \n",
        "                    'Worst Prediction Time: {:.3f} - {}'.format(worst_prediction_time['Training Time'].values[0], worst_prediction_time['Algorithm'].values[0])))\n",
        "\n",
        "props = dict(boxstyle='round', facecolor='lightgrey', alpha=0.5)\n",
        "\n",
        "#place a text box\n",
        "plt.text(9, 36, textstr, fontsize=14,  bbox=props)\n",
        "\n",
        "plt.title('Time Complexity of Algorithms', fontweight = 'bold', fontsize = 17);"
      ],
      "execution_count": null,
      "outputs": [
        {
          "output_type": "display_data",
          "data": {
            "image/png": "[encoded data removed]",
            "text/plain": [
              "<Figure size 864x504 with 1 Axes>"
            ]
          },
          "metadata": {}
        }
      ]
    },
    {
      "cell_type": "markdown",
      "metadata": {
        "id": "1odBXg4MaVYt"
      },
      "source": [
        "##**Tuning Hyperparameters**"
      ]
    },
    {
      "cell_type": "code",
      "metadata": {
        "id": "9cps0blDX8Xz"
      },
      "source": [
        "def param_tuning(clf, param_dict, X_train, y_train, X_test, y_test):\n",
        "    \n",
        "    # make scorer object\n",
        "    scorer = make_scorer(f1_score)\n",
        "\n",
        "    # perform Grid Search for Parameters\n",
        "    grid_obj = GridSearchCV(estimator = clf,\n",
        "                           param_grid = param_dict,\n",
        "                           scoring = scorer,\n",
        "                           cv = 5)\n",
        "\n",
        "    grid_fit = grid_obj.fit(X_train, y_train)\n",
        "\n",
        "    # Get the estimator\n",
        "    best_clf = grid_fit.best_estimator_\n",
        "\n",
        "    # Make predictions using the unoptimized and model\n",
        "    predictions = (clf.fit(X_train, y_train)).predict(X_test)\n",
        "    best_predictions = best_clf.predict(X_test)\n",
        "    \n",
        "    # Report the before-and-afterscores\n",
        "    print(clf.__class__.__name__)\n",
        "    print(\"\\nOptimized Model\\n------\")\n",
        "    print(\"Best Parameters: {}\".format(grid_fit.best_params_))\n",
        "    print(\"Accuracy: {:.4f}\".format(accuracy_score(y_test, best_predictions)))\n",
        "    print(\"F1-score: {:.4f}\".format(f1_score(y_test, best_predictions,average='micro')))\n",
        "    print(\"Precision: {:.4f}\".format(precision_score(y_test, best_predictions,average='micro')))\n",
        "    print(\"Recall: {:.4f}\".format(recall_score(y_test, best_predictions,average='micro')))"
      ],
      "execution_count": null,
      "outputs": []
    },
    {
      "cell_type": "markdown",
      "metadata": {
        "id": "it4ibgOoacq8"
      },
      "source": [
        "####**Stochastic Gradient Classifier:**"
      ]
    },
    {
      "cell_type": "code",
      "metadata": {
        "colab": {
          "base_uri": "https://localhost:8080/"
        },
        "id": "ZVXugdZlYA7f",
        "outputId": "5f1765a7-3526-4f6b-9408-3f521b6c252f"
      },
      "source": [
        "# Dict for parameters\n",
        "param_grid = {\n",
        "    'alpha' : [0.095, 0.0002, 0.0003],\n",
        "    'max_iter' : [2500, 3000, 4000]\n",
        "}\n",
        "\n",
        "clf_sgd = SGDClassifier()\n",
        "\n",
        "param_tuning(clf_sgd, param_grid, training_data, y_train, testing_data, y_test)"
      ],
      "execution_count": null,
      "outputs": [
        {
          "output_type": "stream",
          "name": "stdout",
          "text": [
            "SGDClassifier\n",
            "\n",
            "Optimized Model\n",
            "------\n",
            "Best Parameters: {'alpha': 0.095, 'max_iter': 2500}\n",
            "Accuracy: 0.8000\n",
            "F1-score: 0.8000\n",
            "Precision: 0.8000\n",
            "Recall: 0.8000\n"
          ]
        }
      ]
    },
    {
      "cell_type": "markdown",
      "metadata": {
        "id": "eu1q5fKlalCs"
      },
      "source": [
        "####**Decision Tree Classifier:**"
      ]
    },
    {
      "cell_type": "code",
      "metadata": {
        "colab": {
          "base_uri": "https://localhost:8080/"
        },
        "id": "1Ps-6ZVZYHwL",
        "outputId": "f4544a22-3ad7-429f-8630-421f2b046953"
      },
      "source": [
        "param_grid = {\n",
        "    'min_samples_split': [2, 5, 8],\n",
        "    'min_samples_leaf': [1, 2, 5, 8]\n",
        "}\n",
        "\n",
        "clf_dt = DecisionTreeClassifier()\n",
        "\n",
        "param_tuning(clf_dt, param_grid, training_data, y_train, testing_data, y_test)"
      ],
      "execution_count": null,
      "outputs": [
        {
          "output_type": "stream",
          "name": "stdout",
          "text": [
            "DecisionTreeClassifier\n",
            "\n",
            "Optimized Model\n",
            "------\n",
            "Best Parameters: {'min_samples_leaf': 1, 'min_samples_split': 2}\n",
            "Accuracy: 0.8716\n",
            "F1-score: 0.8716\n",
            "Precision: 0.8716\n",
            "Recall: 0.8716\n"
          ]
        }
      ]
    },
    {
      "cell_type": "markdown",
      "metadata": {
        "id": "uF5nCd8Yap3A"
      },
      "source": [
        "####**Random Forest Classifier:**"
      ]
    },
    {
      "cell_type": "code",
      "metadata": {
        "colab": {
          "base_uri": "https://localhost:8080/"
        },
        "id": "RCTKYafDYKYR",
        "outputId": "273bde99-6f60-49de-81f9-f028d505d107"
      },
      "source": [
        "\n",
        "param_grid = {\n",
        "    'n_estimators': [50,150],\n",
        "    'min_samples_leaf': [1, 5],\n",
        "    'min_samples_split': [2, 5]\n",
        "}\n",
        "\n",
        "clf_rf = RandomForestClassifier()\n",
        "\n",
        "param_tuning(clf_rf, param_grid, training_data, y_train, testing_data, y_test)"
      ],
      "execution_count": null,
      "outputs": [
        {
          "output_type": "stream",
          "name": "stdout",
          "text": [
            "RandomForestClassifier\n",
            "\n",
            "Optimized Model\n",
            "------\n",
            "Best Parameters: {'min_samples_leaf': 1, 'min_samples_split': 2, 'n_estimators': 50}\n",
            "Accuracy: 0.8706\n",
            "F1-score: 0.8706\n",
            "Precision: 0.8706\n",
            "Recall: 0.8706\n"
          ]
        }
      ]
    },
    {
      "cell_type": "markdown",
      "metadata": {
        "id": "GVglDxXmawVG"
      },
      "source": [
        "####**Linear SVC:**"
      ]
    },
    {
      "cell_type": "code",
      "metadata": {
        "colab": {
          "base_uri": "https://localhost:8080/"
        },
        "id": "PdrFX9wtYM_I",
        "outputId": "5eab030c-d886-4f01-ee31-4b72d23044ac"
      },
      "source": [
        "\n",
        "param_grid = {\n",
        "    'C': [0.25, 0.5, 0.75, 1, 1.2]\n",
        "}\n",
        "\n",
        "clf_linsvc = LinearSVC()\n",
        "\n",
        "param_tuning(clf_linsvc, param_grid, training_data, y_train, testing_data, y_test)"
      ],
      "execution_count": null,
      "outputs": [
        {
          "output_type": "stream",
          "name": "stdout",
          "text": [
            "LinearSVC\n",
            "\n",
            "Optimized Model\n",
            "------\n",
            "Best Parameters: {'C': 0.25}\n",
            "Accuracy: 0.8810\n",
            "F1-score: 0.8810\n",
            "Precision: 0.8810\n",
            "Recall: 0.8810\n"
          ]
        }
      ]
    },
    {
      "cell_type": "markdown",
      "metadata": {
        "id": "U_wFeV_Aa3rL"
      },
      "source": [
        "##**Conclusion:**\n"
      ]
    },
    {
      "cell_type": "markdown",
      "metadata": {
        "id": "dtsM73_3a8Dg"
      },
      "source": [
        "***We found Stochastic Gradient to be the best suited model for our data. We achieved the following performance parameters:***\n",
        "\n",
        "***Accuracy: 92.81 %***\n",
        "\n",
        "***Precision: 96.97 %***\n",
        "\n",
        "***Recall: 91.94 %***\n",
        "\n",
        "***F1-Score: 94.39 %***\n"
      ]
    },
    {
      "cell_type": "markdown",
      "metadata": {
        "id": "eysbUuOibKDw"
      },
      "source": [
        "##**Save the model:**"
      ]
    },
    {
      "cell_type": "code",
      "metadata": {
        "id": "1X1Vz9g_YQHf",
        "colab": {
          "base_uri": "https://localhost:8080/"
        },
        "outputId": "0a6e9e39-6206-4e67-e03f-320c5ca9d2fb"
      },
      "source": [
        "filename = 'cb_sgd_final.sav'\n",
        "joblib.dump(clf_sgd, filename)"
      ],
      "execution_count": null,
      "outputs": [
        {
          "output_type": "execute_result",
          "data": {
            "text/plain": [
              "['cb_sgd_final.sav']"
            ]
          },
          "metadata": {},
          "execution_count": 92
        }
      ]
    }
  ]
}
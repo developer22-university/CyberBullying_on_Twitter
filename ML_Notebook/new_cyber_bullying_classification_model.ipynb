{
  "nbformat": 4,
  "nbformat_minor": 0,
  "metadata": {
    "colab": {
      "name": "Copy of cyber-bullying-classification-model.ipynb",
      "provenance": [],
      "collapsed_sections": [],
      "include_colab_link": true
    },
    "kernelspec": {
      "name": "python3",
      "display_name": "Python 3"
    },
    "language_info": {
      "name": "python"
    }
  },
  "cells": [
    {
      "cell_type": "markdown",
      "metadata": {
        "id": "view-in-github",
        "colab_type": "text"
      },
      "source": [
        "<a href=\"https://colab.research.google.com/github/developer22-university/CyberBullying_on_Twitter/blob/main/ML_Notebook/new_cyber_bullying_classification_model.ipynb\" target=\"_parent\"><img src=\"https://colab.research.google.com/assets/colab-badge.svg\" alt=\"Open In Colab\"/></a>"
      ]
    },
    {
      "cell_type": "code",
      "metadata": {
        "colab": {
          "base_uri": "https://localhost:8080/"
        },
        "id": "-B7pyOsPjyw9",
        "outputId": "0bdc3927-05a3-44d8-cd6f-66fb76643cff"
      },
      "source": [
        "# This Python 3 environment comes with many helpful analytics libraries installed\n",
        "# It is defined by the kaggle/python Docker image: https://github.com/kaggle/docker-python\n",
        "# For example, here's several helpful packages to load\n",
        "\n",
        "import numpy as np # linear algebra\n",
        "import pandas as pd # data processing, CSV file I/O (e.g. pd.read_csv)\n",
        "import matplotlib.pyplot as plt\n",
        "import seaborn as sns\n",
        "from wordcloud import WordCloud\n",
        "\n",
        "#to data preprocessing\n",
        "from sklearn.compose import ColumnTransformer\n",
        "from sklearn.preprocessing import OneHotEncoder\n",
        "\n",
        "#NLP tools\n",
        "import re\n",
        "import string\n",
        "from nltk.corpus import stopwords\n",
        "import nltk\n",
        "from nltk import corpus\n",
        "import nltk.corpus as Corpus\n",
        "# from nltk.corpus import stopwords\n",
        "from nltk.corpus import stopwords\n",
        "nltk.download(\"stopwords\")\n",
        "STOPWORDS = nltk.corpus.stopwords.words('english')\n",
        "from nltk.stem.porter import PorterStemmer\n",
        "from sklearn.feature_extraction.text import CountVectorizer\n",
        "import numpy as np \n",
        "import pandas as pd \n",
        "import matplotlib.pyplot as plt\n",
        "import seaborn as sns\n",
        "from sklearn.model_selection import train_test_split, GridSearchCV\n",
        "from sklearn.feature_extraction.text import CountVectorizer\n",
        "from sklearn.metrics import f1_score, accuracy_score, precision_score, recall_score, make_scorer\n",
        "from time import time\n",
        "\n",
        "from sklearn.naive_bayes import MultinomialNB\n",
        "from sklearn.tree import DecisionTreeClassifier\n",
        "from sklearn.svm import LinearSVC\n",
        "from sklearn.ensemble import AdaBoostClassifier, RandomForestClassifier, BaggingClassifier\n",
        "from sklearn.linear_model import LogisticRegression, SGDClassifier\n",
        "from sklearn.neighbors import KNeighborsClassifier\n",
        "import joblib\n",
        "\n",
        "\n",
        "\n",
        "#train split and fit models\n",
        "from sklearn.model_selection import train_test_split\n",
        "from sklearn.ensemble import RandomForestClassifier\n",
        "from sklearn.linear_model import LogisticRegression\n",
        "from sklearn.neighbors import KNeighborsClassifier\n",
        "from sklearn import svm\n",
        "from xgboost import XGBClassifier\n",
        "from sklearn.linear_model import SGDClassifier\n",
        "from sklearn.tree import DecisionTreeClassifier\n",
        "from sklearn.linear_model import SGDClassifier\n",
        "from sklearn.naive_bayes import GaussianNB\n",
        "from sklearn.ensemble import AdaBoostClassifier\n",
        "from sklearn.datasets import make_classification\n",
        "\n",
        "#model selection\n",
        "from sklearn.metrics import confusion_matrix, accuracy_score\n",
        "\n",
        "\n",
        "# Input data files are available in the read-only \"../input/\" directory\n",
        "# For example, running this (by clicking run or pressing Shift+Enter) will list all files under the input directory\n",
        "\n",
        "import os\n",
        "for dirname, _, filenames in os.walk('/kaggle/input'):\n",
        "    for filename in filenames:\n",
        "        print(os.path.join(dirname, filename))\n",
        "\n",
        "# You can write up to 5GB to the current directory (/kaggle/working/) that ge"
      ],
      "execution_count": 1,
      "outputs": [
        {
          "output_type": "stream",
          "name": "stdout",
          "text": [
            "[nltk_data] Downloading package stopwords to /root/nltk_data...\n",
            "[nltk_data]   Unzipping corpora/stopwords.zip.\n"
          ]
        }
      ]
    },
    {
      "cell_type": "markdown",
      "metadata": {
        "id": "6DAT9iFUl-k9"
      },
      "source": [
        "## **Importing the [Kaggle](https://www.kaggle.com/mrmorj/hate-speech-and-offensive-language-dataset)  Dataset**"
      ]
    },
    {
      "cell_type": "code",
      "metadata": {
        "colab": {
          "base_uri": "https://localhost:8080/",
          "height": 238
        },
        "id": "839vb_wCmbSb",
        "outputId": "c909c7fe-a924-464c-f838-d10ed3dbd20f"
      },
      "source": [
        "df = pd.read_csv('public_data.csv',index_col=[0])\n",
        "df.head(6)"
      ],
      "execution_count": null,
      "outputs": [
        {
          "output_type": "execute_result",
          "data": {
            "text/html": [
              "<div>\n",
              "<style scoped>\n",
              "    .dataframe tbody tr th:only-of-type {\n",
              "        vertical-align: middle;\n",
              "    }\n",
              "\n",
              "    .dataframe tbody tr th {\n",
              "        vertical-align: top;\n",
              "    }\n",
              "\n",
              "    .dataframe thead th {\n",
              "        text-align: right;\n",
              "    }\n",
              "</style>\n",
              "<table border=\"1\" class=\"dataframe\">\n",
              "  <thead>\n",
              "    <tr style=\"text-align: right;\">\n",
              "      <th></th>\n",
              "      <th>count</th>\n",
              "      <th>hate_speech</th>\n",
              "      <th>offensive_language</th>\n",
              "      <th>neither</th>\n",
              "      <th>class</th>\n",
              "      <th>tweet</th>\n",
              "    </tr>\n",
              "  </thead>\n",
              "  <tbody>\n",
              "    <tr>\n",
              "      <th>0</th>\n",
              "      <td>3</td>\n",
              "      <td>0</td>\n",
              "      <td>0</td>\n",
              "      <td>3</td>\n",
              "      <td>2</td>\n",
              "      <td>!!! RT @mayasolovely: As a woman you shouldn't...</td>\n",
              "    </tr>\n",
              "    <tr>\n",
              "      <th>1</th>\n",
              "      <td>3</td>\n",
              "      <td>0</td>\n",
              "      <td>3</td>\n",
              "      <td>0</td>\n",
              "      <td>1</td>\n",
              "      <td>!!!!! RT @mleew17: boy dats cold...tyga dwn ba...</td>\n",
              "    </tr>\n",
              "    <tr>\n",
              "      <th>2</th>\n",
              "      <td>3</td>\n",
              "      <td>0</td>\n",
              "      <td>3</td>\n",
              "      <td>0</td>\n",
              "      <td>1</td>\n",
              "      <td>!!!!!!! RT @UrKindOfBrand Dawg!!!! RT @80sbaby...</td>\n",
              "    </tr>\n",
              "    <tr>\n",
              "      <th>3</th>\n",
              "      <td>3</td>\n",
              "      <td>0</td>\n",
              "      <td>2</td>\n",
              "      <td>1</td>\n",
              "      <td>1</td>\n",
              "      <td>!!!!!!!!! RT @C_G_Anderson: @viva_based she lo...</td>\n",
              "    </tr>\n",
              "    <tr>\n",
              "      <th>4</th>\n",
              "      <td>6</td>\n",
              "      <td>0</td>\n",
              "      <td>6</td>\n",
              "      <td>0</td>\n",
              "      <td>1</td>\n",
              "      <td>!!!!!!!!!!!!! RT @ShenikaRoberts: The shit you...</td>\n",
              "    </tr>\n",
              "    <tr>\n",
              "      <th>5</th>\n",
              "      <td>3</td>\n",
              "      <td>1</td>\n",
              "      <td>2</td>\n",
              "      <td>0</td>\n",
              "      <td>1</td>\n",
              "      <td>!!!!!!!!!!!!!!!!!!\"@T_Madison_x: The shit just...</td>\n",
              "    </tr>\n",
              "  </tbody>\n",
              "</table>\n",
              "</div>"
            ],
            "text/plain": [
              "   count  hate_speech  ...  class                                              tweet\n",
              "0      3            0  ...      2  !!! RT @mayasolovely: As a woman you shouldn't...\n",
              "1      3            0  ...      1  !!!!! RT @mleew17: boy dats cold...tyga dwn ba...\n",
              "2      3            0  ...      1  !!!!!!! RT @UrKindOfBrand Dawg!!!! RT @80sbaby...\n",
              "3      3            0  ...      1  !!!!!!!!! RT @C_G_Anderson: @viva_based she lo...\n",
              "4      6            0  ...      1  !!!!!!!!!!!!! RT @ShenikaRoberts: The shit you...\n",
              "5      3            1  ...      1  !!!!!!!!!!!!!!!!!!\"@T_Madison_x: The shit just...\n",
              "\n",
              "[6 rows x 6 columns]"
            ]
          },
          "metadata": {},
          "execution_count": 5
        }
      ]
    },
    {
      "cell_type": "code",
      "metadata": {
        "colab": {
          "base_uri": "https://localhost:8080/"
        },
        "id": "7Jb_0GdcmvlX",
        "outputId": "8e50e33c-572a-40b3-dbb5-b5691419798c"
      },
      "source": [
        "df.info()"
      ],
      "execution_count": null,
      "outputs": [
        {
          "output_type": "stream",
          "name": "stdout",
          "text": [
            "<class 'pandas.core.frame.DataFrame'>\n",
            "Int64Index: 10671 entries, 0 to 10950\n",
            "Data columns (total 6 columns):\n",
            " #   Column              Non-Null Count  Dtype \n",
            "---  ------              --------------  ----- \n",
            " 0   count               10671 non-null  int64 \n",
            " 1   hate_speech         10671 non-null  int64 \n",
            " 2   offensive_language  10671 non-null  int64 \n",
            " 3   neither             10671 non-null  int64 \n",
            " 4   class               10671 non-null  int64 \n",
            " 5   tweet               10671 non-null  object\n",
            "dtypes: int64(5), object(1)\n",
            "memory usage: 583.6+ KB\n"
          ]
        }
      ]
    },
    {
      "cell_type": "code",
      "metadata": {
        "colab": {
          "base_uri": "https://localhost:8080/",
          "height": 206
        },
        "id": "ioiVKSuZnQWP",
        "outputId": "8792ec19-df09-412c-f529-a6285e35f68e"
      },
      "source": [
        "df.describe().T"
      ],
      "execution_count": null,
      "outputs": [
        {
          "output_type": "execute_result",
          "data": {
            "text/html": [
              "<div>\n",
              "<style scoped>\n",
              "    .dataframe tbody tr th:only-of-type {\n",
              "        vertical-align: middle;\n",
              "    }\n",
              "\n",
              "    .dataframe tbody tr th {\n",
              "        vertical-align: top;\n",
              "    }\n",
              "\n",
              "    .dataframe thead th {\n",
              "        text-align: right;\n",
              "    }\n",
              "</style>\n",
              "<table border=\"1\" class=\"dataframe\">\n",
              "  <thead>\n",
              "    <tr style=\"text-align: right;\">\n",
              "      <th></th>\n",
              "      <th>count</th>\n",
              "      <th>mean</th>\n",
              "      <th>std</th>\n",
              "      <th>min</th>\n",
              "      <th>25%</th>\n",
              "      <th>50%</th>\n",
              "      <th>75%</th>\n",
              "      <th>max</th>\n",
              "    </tr>\n",
              "  </thead>\n",
              "  <tbody>\n",
              "    <tr>\n",
              "      <th>count</th>\n",
              "      <td>10671.0</td>\n",
              "      <td>3.224440</td>\n",
              "      <td>0.845932</td>\n",
              "      <td>3.0</td>\n",
              "      <td>3.0</td>\n",
              "      <td>3.0</td>\n",
              "      <td>3.0</td>\n",
              "      <td>9.0</td>\n",
              "    </tr>\n",
              "    <tr>\n",
              "      <th>hate_speech</th>\n",
              "      <td>10671.0</td>\n",
              "      <td>0.329491</td>\n",
              "      <td>0.690646</td>\n",
              "      <td>0.0</td>\n",
              "      <td>0.0</td>\n",
              "      <td>0.0</td>\n",
              "      <td>0.0</td>\n",
              "      <td>7.0</td>\n",
              "    </tr>\n",
              "    <tr>\n",
              "      <th>offensive_language</th>\n",
              "      <td>10671.0</td>\n",
              "      <td>2.340737</td>\n",
              "      <td>1.379563</td>\n",
              "      <td>0.0</td>\n",
              "      <td>2.0</td>\n",
              "      <td>3.0</td>\n",
              "      <td>3.0</td>\n",
              "      <td>9.0</td>\n",
              "    </tr>\n",
              "    <tr>\n",
              "      <th>neither</th>\n",
              "      <td>10671.0</td>\n",
              "      <td>0.554212</td>\n",
              "      <td>1.122589</td>\n",
              "      <td>0.0</td>\n",
              "      <td>0.0</td>\n",
              "      <td>0.0</td>\n",
              "      <td>0.0</td>\n",
              "      <td>9.0</td>\n",
              "    </tr>\n",
              "    <tr>\n",
              "      <th>class</th>\n",
              "      <td>10671.0</td>\n",
              "      <td>1.094087</td>\n",
              "      <td>0.486898</td>\n",
              "      <td>0.0</td>\n",
              "      <td>1.0</td>\n",
              "      <td>1.0</td>\n",
              "      <td>1.0</td>\n",
              "      <td>2.0</td>\n",
              "    </tr>\n",
              "  </tbody>\n",
              "</table>\n",
              "</div>"
            ],
            "text/plain": [
              "                      count      mean       std  min  25%  50%  75%  max\n",
              "count               10671.0  3.224440  0.845932  3.0  3.0  3.0  3.0  9.0\n",
              "hate_speech         10671.0  0.329491  0.690646  0.0  0.0  0.0  0.0  7.0\n",
              "offensive_language  10671.0  2.340737  1.379563  0.0  2.0  3.0  3.0  9.0\n",
              "neither             10671.0  0.554212  1.122589  0.0  0.0  0.0  0.0  9.0\n",
              "class               10671.0  1.094087  0.486898  0.0  1.0  1.0  1.0  2.0"
            ]
          },
          "metadata": {},
          "execution_count": 7
        }
      ]
    },
    {
      "cell_type": "code",
      "metadata": {
        "id": "2YEPIoyVvqpx"
      },
      "source": [
        "dt_trasformed = df[['class', 'tweet']]\n",
        "y = dt_trasformed.iloc[:, :-1].values"
      ],
      "execution_count": null,
      "outputs": []
    },
    {
      "cell_type": "code",
      "metadata": {
        "colab": {
          "base_uri": "https://localhost:8080/",
          "height": 334
        },
        "id": "3ATN6s5syLvk",
        "outputId": "c97dbba2-c07f-4450-b41f-7324f72a9470"
      },
      "source": [
        "sns.countplot(df['class'])\n",
        "plt.show()"
      ],
      "execution_count": null,
      "outputs": [
        {
          "output_type": "stream",
          "name": "stderr",
          "text": [
            "/usr/local/lib/python3.7/dist-packages/seaborn/_decorators.py:43: FutureWarning: Pass the following variable as a keyword arg: x. From version 0.12, the only valid positional argument will be `data`, and passing other arguments without an explicit keyword will result in an error or misinterpretation.\n",
            "  FutureWarning\n"
          ]
        },
        {
          "output_type": "display_data",
          "data": {
            "image/png": "[encoded data removed]",
            "text/plain": [
              "<Figure size 432x288 with 1 Axes>"
            ]
          },
          "metadata": {
            "needs_background": "light"
          }
        }
      ]
    },
    {
      "cell_type": "code",
      "metadata": {
        "colab": {
          "base_uri": "https://localhost:8080/",
          "height": 351
        },
        "id": "K-UH8iHjyQVd",
        "outputId": "27968923-f512-4d6c-e273-b10e4c3981b8"
      },
      "source": [
        "sns.countplot(df['hate_speech'])\n",
        "plt.title('Number of people felt text as hate speech')\n",
        "plt.show()"
      ],
      "execution_count": null,
      "outputs": [
        {
          "output_type": "stream",
          "name": "stderr",
          "text": [
            "/usr/local/lib/python3.7/dist-packages/seaborn/_decorators.py:43: FutureWarning: Pass the following variable as a keyword arg: x. From version 0.12, the only valid positional argument will be `data`, and passing other arguments without an explicit keyword will result in an error or misinterpretation.\n",
            "  FutureWarning\n"
          ]
        },
        {
          "output_type": "display_data",
          "data": {
            "image/png": "[encoded data removed]",
            "text/plain": [
              "<Figure size 432x288 with 1 Axes>"
            ]
          },
          "metadata": {
            "needs_background": "light"
          }
        }
      ]
    },
    {
      "cell_type": "code",
      "metadata": {
        "colab": {
          "base_uri": "https://localhost:8080/",
          "height": 351
        },
        "id": "I64A4D2kyVCl",
        "outputId": "65a822ca-e34f-4ba8-9777-df31881f7db2"
      },
      "source": [
        "sns.countplot(df['offensive_language'])\n",
        "plt.title('Number of people felt text as offensive language')\n",
        "plt.show()"
      ],
      "execution_count": null,
      "outputs": [
        {
          "output_type": "stream",
          "name": "stderr",
          "text": [
            "/usr/local/lib/python3.7/dist-packages/seaborn/_decorators.py:43: FutureWarning: Pass the following variable as a keyword arg: x. From version 0.12, the only valid positional argument will be `data`, and passing other arguments without an explicit keyword will result in an error or misinterpretation.\n",
            "  FutureWarning\n"
          ]
        },
        {
          "output_type": "display_data",
          "data": {
            "image/png": "[encoded data removed]",
            "text/plain": [
              "<Figure size 432x288 with 1 Axes>"
            ]
          },
          "metadata": {
            "needs_background": "light"
          }
        }
      ]
    },
    {
      "cell_type": "code",
      "metadata": {
        "colab": {
          "base_uri": "https://localhost:8080/",
          "height": 350
        },
        "id": "NeEFbVvQyY6W",
        "outputId": "565e80d4-62aa-4740-d784-4561ac81baa7"
      },
      "source": [
        "sns.countplot(df['neither'])\n",
        "plt.title('Number of people felt text as neither of them')\n",
        "plt.show()"
      ],
      "execution_count": null,
      "outputs": [
        {
          "output_type": "stream",
          "name": "stderr",
          "text": [
            "/usr/local/lib/python3.7/dist-packages/seaborn/_decorators.py:43: FutureWarning: Pass the following variable as a keyword arg: x. From version 0.12, the only valid positional argument will be `data`, and passing other arguments without an explicit keyword will result in an error or misinterpretation.\n",
            "  FutureWarning\n"
          ]
        },
        {
          "output_type": "display_data",
          "data": {
            "image/png": "[encoded data removed]",
            "text/plain": [
              "<Figure size 432x288 with 1 Axes>"
            ]
          },
          "metadata": {
            "needs_background": "light"
          }
        }
      ]
    },
    {
      "cell_type": "code",
      "metadata": {
        "id": "kPRZsU0ptJrK"
      },
      "source": [
        "def plot_dist(data):\n",
        "    \n",
        "    fig,ax = plt.subplots(1,2,figsize=(15,5))\n",
        "    sns.distplot(data,ax=ax[0])\n",
        "    sns.boxplot(data,ax=ax[1])\n",
        "    plt.show()"
      ],
      "execution_count": null,
      "outputs": []
    },
    {
      "cell_type": "code",
      "metadata": {
        "colab": {
          "base_uri": "https://localhost:8080/",
          "height": 423
        },
        "id": "OhDBx9lkygWE",
        "outputId": "2d0bed17-d9a6-411e-d308-7a44a9c1bfdd"
      },
      "source": [
        "# number of words\n",
        "df['Number of words'] = df['tweet'].apply(lambda x: len(x.split(' ')))\n",
        "plot_dist(df['Number of words']);"
      ],
      "execution_count": null,
      "outputs": [
        {
          "output_type": "stream",
          "name": "stderr",
          "text": [
            "/usr/local/lib/python3.7/dist-packages/seaborn/distributions.py:2619: FutureWarning: `distplot` is a deprecated function and will be removed in a future version. Please adapt your code to use either `displot` (a figure-level function with similar flexibility) or `histplot` (an axes-level function for histograms).\n",
            "  warnings.warn(msg, FutureWarning)\n",
            "/usr/local/lib/python3.7/dist-packages/seaborn/_decorators.py:43: FutureWarning: Pass the following variable as a keyword arg: x. From version 0.12, the only valid positional argument will be `data`, and passing other arguments without an explicit keyword will result in an error or misinterpretation.\n",
            "  FutureWarning\n"
          ]
        },
        {
          "output_type": "display_data",
          "data": {
            "image/png": "[encoded data removed]",
            "text/plain": [
              "<Figure size 1080x360 with 2 Axes>"
            ]
          },
          "metadata": {
            "needs_background": "light"
          }
        }
      ]
    },
    {
      "cell_type": "code",
      "metadata": {
        "colab": {
          "base_uri": "https://localhost:8080/",
          "height": 424
        },
        "id": "LXNqXRL4ynWm",
        "outputId": "b207722a-0377-4ec3-9397-d042a5e54f6c"
      },
      "source": [
        "# average word length\n",
        "df['avg_word_len'] = df['tweet'].apply(lambda x: np.mean([len(c) for c in  x.split(' ')]))\n",
        "plot_dist(df['avg_word_len']);"
      ],
      "execution_count": null,
      "outputs": [
        {
          "output_type": "stream",
          "name": "stderr",
          "text": [
            "/usr/local/lib/python3.7/dist-packages/seaborn/distributions.py:2619: FutureWarning: `distplot` is a deprecated function and will be removed in a future version. Please adapt your code to use either `displot` (a figure-level function with similar flexibility) or `histplot` (an axes-level function for histograms).\n",
            "  warnings.warn(msg, FutureWarning)\n",
            "/usr/local/lib/python3.7/dist-packages/seaborn/_decorators.py:43: FutureWarning: Pass the following variable as a keyword arg: x. From version 0.12, the only valid positional argument will be `data`, and passing other arguments without an explicit keyword will result in an error or misinterpretation.\n",
            "  FutureWarning\n"
          ]
        },
        {
          "output_type": "display_data",
          "data": {
            "image/png": "[encoded data removed]",
            "text/plain": [
              "<Figure size 1080x360 with 2 Axes>"
            ]
          },
          "metadata": {
            "needs_background": "light"
          }
        }
      ]
    },
    {
      "cell_type": "code",
      "metadata": {
        "colab": {
          "base_uri": "https://localhost:8080/",
          "height": 334
        },
        "id": "0AJXQsb4zA_H",
        "outputId": "5bbe728b-e83f-484d-9609-3eddbee83e2a"
      },
      "source": [
        "# number of stopwords\n",
        "df['Number of stop words'] = df['tweet'].apply(lambda x: len([c for c in x.split(' ') if c in STOPWORDS]))\n",
        "sns.countplot(df['Number of stop words'])\n",
        "plt.show()"
      ],
      "execution_count": null,
      "outputs": [
        {
          "output_type": "stream",
          "name": "stderr",
          "text": [
            "/usr/local/lib/python3.7/dist-packages/seaborn/_decorators.py:43: FutureWarning: Pass the following variable as a keyword arg: x. From version 0.12, the only valid positional argument will be `data`, and passing other arguments without an explicit keyword will result in an error or misinterpretation.\n",
            "  FutureWarning\n"
          ]
        },
        {
          "output_type": "display_data",
          "data": {
            "image/png": "[encoded data removed]",
            "text/plain": [
              "<Figure size 432x288 with 1 Axes>"
            ]
          },
          "metadata": {
            "needs_background": "light"
          }
        }
      ]
    },
    {
      "cell_type": "code",
      "metadata": {
        "colab": {
          "base_uri": "https://localhost:8080/",
          "height": 423
        },
        "id": "RzU_KC6DzMmm",
        "outputId": "ae9bb906-33d1-4107-8aa5-4fab4503ce72"
      },
      "source": [
        "# number of character count\n",
        "df['Number of char'] = df['tweet'].apply(lambda x: len(x))\n",
        "plot_dist(df['Number of char']);"
      ],
      "execution_count": null,
      "outputs": [
        {
          "output_type": "stream",
          "name": "stderr",
          "text": [
            "/usr/local/lib/python3.7/dist-packages/seaborn/distributions.py:2619: FutureWarning: `distplot` is a deprecated function and will be removed in a future version. Please adapt your code to use either `displot` (a figure-level function with similar flexibility) or `histplot` (an axes-level function for histograms).\n",
            "  warnings.warn(msg, FutureWarning)\n",
            "/usr/local/lib/python3.7/dist-packages/seaborn/_decorators.py:43: FutureWarning: Pass the following variable as a keyword arg: x. From version 0.12, the only valid positional argument will be `data`, and passing other arguments without an explicit keyword will result in an error or misinterpretation.\n",
            "  FutureWarning\n"
          ]
        },
        {
          "output_type": "display_data",
          "data": {
            "image/png": "[encoded data removed]",
            "text/plain": [
              "<Figure size 1080x360 with 2 Axes>"
            ]
          },
          "metadata": {
            "needs_background": "light"
          }
        }
      ]
    },
    {
      "cell_type": "code",
      "metadata": {
        "colab": {
          "base_uri": "https://localhost:8080/",
          "height": 423
        },
        "id": "4maSGnwezSEg",
        "outputId": "60f86d35-aae4-4c5c-fe7c-a71ee2ab59cd"
      },
      "source": [
        "# number of unique\n",
        "df['Number of unique words'] = df['tweet'].apply(lambda x: len(set(x.split(' '))))\n",
        "plot_dist(df['Number of unique words']);"
      ],
      "execution_count": null,
      "outputs": [
        {
          "output_type": "stream",
          "name": "stderr",
          "text": [
            "/usr/local/lib/python3.7/dist-packages/seaborn/distributions.py:2619: FutureWarning: `distplot` is a deprecated function and will be removed in a future version. Please adapt your code to use either `displot` (a figure-level function with similar flexibility) or `histplot` (an axes-level function for histograms).\n",
            "  warnings.warn(msg, FutureWarning)\n",
            "/usr/local/lib/python3.7/dist-packages/seaborn/_decorators.py:43: FutureWarning: Pass the following variable as a keyword arg: x. From version 0.12, the only valid positional argument will be `data`, and passing other arguments without an explicit keyword will result in an error or misinterpretation.\n",
            "  FutureWarning\n"
          ]
        },
        {
          "output_type": "display_data",
          "data": {
            "image/png": "[encoded data removed]",
            "text/plain": [
              "<Figure size 1080x360 with 2 Axes>"
            ]
          },
          "metadata": {
            "needs_background": "light"
          }
        }
      ]
    },
    {
      "cell_type": "code",
      "metadata": {
        "colab": {
          "base_uri": "https://localhost:8080/",
          "height": 334
        },
        "id": "xdn-5K34zVkn",
        "outputId": "21c4857a-cfdf-4328-9e57-a6a1edb1a0e8"
      },
      "source": [
        "# number of urls\n",
        "df['Number of urls'] = df['tweet'].apply(lambda x: len(re.findall('https?',x)))\n",
        "sns.countplot(df['Number of urls'])\n",
        "plt.show()"
      ],
      "execution_count": null,
      "outputs": [
        {
          "output_type": "stream",
          "name": "stderr",
          "text": [
            "/usr/local/lib/python3.7/dist-packages/seaborn/_decorators.py:43: FutureWarning: Pass the following variable as a keyword arg: x. From version 0.12, the only valid positional argument will be `data`, and passing other arguments without an explicit keyword will result in an error or misinterpretation.\n",
            "  FutureWarning\n"
          ]
        },
        {
          "output_type": "display_data",
          "data": {
            "image/png": "[encoded data removed]",
            "text/plain": [
              "<Figure size 432x288 with 1 Axes>"
            ]
          },
          "metadata": {
            "needs_background": "light"
          }
        }
      ]
    },
    {
      "cell_type": "code",
      "metadata": {
        "colab": {
          "base_uri": "https://localhost:8080/",
          "height": 334
        },
        "id": "xt9ne5RqzZ4x",
        "outputId": "22ed1934-30d7-4be4-c469-224dbcb04920"
      },
      "source": [
        "# number of emoticons\n",
        "df['Number of emoticons'] = df['tweet'].apply(lambda x: len(re.findall('&#[0-9]+;',x)))\n",
        "sns.countplot(df['Number of emoticons'])\n",
        "plt.show()"
      ],
      "execution_count": null,
      "outputs": [
        {
          "output_type": "stream",
          "name": "stderr",
          "text": [
            "/usr/local/lib/python3.7/dist-packages/seaborn/_decorators.py:43: FutureWarning: Pass the following variable as a keyword arg: x. From version 0.12, the only valid positional argument will be `data`, and passing other arguments without an explicit keyword will result in an error or misinterpretation.\n",
            "  FutureWarning\n"
          ]
        },
        {
          "output_type": "display_data",
          "data": {
            "image/png": "[encoded data removed]",
            "text/plain": [
              "<Figure size 432x288 with 1 Axes>"
            ]
          },
          "metadata": {
            "needs_background": "light"
          }
        }
      ]
    },
    {
      "cell_type": "code",
      "metadata": {
        "colab": {
          "base_uri": "https://localhost:8080/",
          "height": 423
        },
        "id": "aGAA84eRzf4o",
        "outputId": "b1a9bf2a-4b45-44da-9b02-3a28bf50da03"
      },
      "source": [
        "# number of punctuations\n",
        "df['Number of punctuations'] = df['tweet'].apply(lambda x: len([c for c in str(x) if c in string.punctuation]))\n",
        "plot_dist(df['Number of punctuations']);"
      ],
      "execution_count": null,
      "outputs": [
        {
          "output_type": "stream",
          "name": "stderr",
          "text": [
            "/usr/local/lib/python3.7/dist-packages/seaborn/distributions.py:2619: FutureWarning: `distplot` is a deprecated function and will be removed in a future version. Please adapt your code to use either `displot` (a figure-level function with similar flexibility) or `histplot` (an axes-level function for histograms).\n",
            "  warnings.warn(msg, FutureWarning)\n",
            "/usr/local/lib/python3.7/dist-packages/seaborn/_decorators.py:43: FutureWarning: Pass the following variable as a keyword arg: x. From version 0.12, the only valid positional argument will be `data`, and passing other arguments without an explicit keyword will result in an error or misinterpretation.\n",
            "  FutureWarning\n"
          ]
        },
        {
          "output_type": "display_data",
          "data": {
            "image/png": "[encoded data removed]",
            "text/plain": [
              "<Figure size 1080x360 with 2 Axes>"
            ]
          },
          "metadata": {
            "needs_background": "light"
          }
        }
      ]
    },
    {
      "cell_type": "code",
      "metadata": {
        "colab": {
          "base_uri": "https://localhost:8080/",
          "height": 334
        },
        "id": "9cQtF4cdzf-V",
        "outputId": "95778535-ad0d-4872-fefa-0d2f8faaead0"
      },
      "source": [
        "# number of mentions\n",
        "df['Number of mentions'] = df['tweet'].apply(lambda x: len(re.findall('@',x)))\n",
        "sns.countplot(df['Number of mentions'])\n",
        "plt.show()"
      ],
      "execution_count": null,
      "outputs": [
        {
          "output_type": "stream",
          "name": "stderr",
          "text": [
            "/usr/local/lib/python3.7/dist-packages/seaborn/_decorators.py:43: FutureWarning: Pass the following variable as a keyword arg: x. From version 0.12, the only valid positional argument will be `data`, and passing other arguments without an explicit keyword will result in an error or misinterpretation.\n",
            "  FutureWarning\n"
          ]
        },
        {
          "output_type": "display_data",
          "data": {
            "image/png": "[encoded data removed]",
            "text/plain": [
              "<Figure size 432x288 with 1 Axes>"
            ]
          },
          "metadata": {
            "needs_background": "light"
          }
        }
      ]
    },
    {
      "cell_type": "code",
      "metadata": {
        "colab": {
          "base_uri": "https://localhost:8080/",
          "height": 351
        },
        "id": "xaLxj2ygznFR",
        "outputId": "c4598f60-4267-477a-dd24-53bf77442a4f"
      },
      "source": [
        "# number of hastags\n",
        "df['Number of hashtags'] = df['tweet'].apply(lambda x: len(re.findall('#',x)))\n",
        "sns.countplot(df['Number of hashtags'])"
      ],
      "execution_count": null,
      "outputs": [
        {
          "output_type": "stream",
          "name": "stderr",
          "text": [
            "/usr/local/lib/python3.7/dist-packages/seaborn/_decorators.py:43: FutureWarning: Pass the following variable as a keyword arg: x. From version 0.12, the only valid positional argument will be `data`, and passing other arguments without an explicit keyword will result in an error or misinterpretation.\n",
            "  FutureWarning\n"
          ]
        },
        {
          "output_type": "execute_result",
          "data": {
            "text/plain": [
              "<matplotlib.axes._subplots.AxesSubplot at 0x7fb1ec102c90>"
            ]
          },
          "metadata": {},
          "execution_count": 23
        },
        {
          "output_type": "display_data",
          "data": {
            "image/png": "[encoded data removed]",
            "text/plain": [
              "<Figure size 432x288 with 1 Axes>"
            ]
          },
          "metadata": {
            "needs_background": "light"
          }
        }
      ]
    },
    {
      "cell_type": "markdown",
      "metadata": {
        "id": "MWbSxGHjwFl0"
      },
      "source": [
        "**Encoding the Dependent Variable**"
      ]
    },
    {
      "cell_type": "code",
      "metadata": {
        "colab": {
          "base_uri": "https://localhost:8080/"
        },
        "id": "b1Xryut7wICK",
        "outputId": "fe723a22-0dc4-42a0-fb2f-9d87d4cc6e04"
      },
      "source": [
        "ct = ColumnTransformer(transformers=[('encoder', OneHotEncoder(), [0])], remainder='passthrough')\n",
        "y = np.array(ct.fit_transform(y))\n",
        "print(y)"
      ],
      "execution_count": null,
      "outputs": [
        {
          "output_type": "stream",
          "name": "stdout",
          "text": [
            "[[0. 0. 1.]\n",
            " [0. 1. 0.]\n",
            " [0. 1. 0.]\n",
            " ...\n",
            " [0. 1. 0.]\n",
            " [1. 0. 0.]\n",
            " [0. 1. 0.]]\n"
          ]
        }
      ]
    },
    {
      "cell_type": "markdown",
      "metadata": {
        "id": "PKLE_EzB57Lj"
      },
      "source": [
        "I separated this y in two variables that we will use to fit hate speech models and offensive speech models"
      ]
    },
    {
      "cell_type": "code",
      "metadata": {
        "colab": {
          "base_uri": "https://localhost:8080/"
        },
        "id": "ewQL65EEyfXF",
        "outputId": "4d8a02cf-cfd2-4e7e-d15e-917994d53747"
      },
      "source": [
        "y_df = pd.DataFrame(y)\n",
        "y_hate = np.array(y_df[0])\n",
        "y_offensive = np.array(y_df[1])\n",
        "print(y_hate)\n",
        "print(y_offensive)"
      ],
      "execution_count": null,
      "outputs": [
        {
          "output_type": "stream",
          "name": "stdout",
          "text": [
            "[0. 0. 0. ... 0. 1. 0.]\n",
            "[0. 1. 1. ... 1. 0. 1.]\n"
          ]
        }
      ]
    },
    {
      "cell_type": "markdown",
      "metadata": {
        "id": "8GFoHwl_0mu6"
      },
      "source": [
        "# **Cleaning the texts**"
      ]
    },
    {
      "cell_type": "code",
      "metadata": {
        "colab": {
          "base_uri": "https://localhost:8080/"
        },
        "id": "QjAzDx7u0l3U",
        "outputId": "ca3f9309-1978-4b72-ac3e-84000eb5a6cb"
      },
      "source": [
        "y_df = pd.DataFrame(y)\n",
        "y_hate = np.array(y_df[0])\n",
        "y_offensive = np.array(y_df[1])\n",
        "print(y_hate)\n",
        "print(y_offensive)"
      ],
      "execution_count": null,
      "outputs": [
        {
          "output_type": "stream",
          "name": "stdout",
          "text": [
            "[0. 0. 0. ... 0. 1. 0.]\n",
            "[0. 1. 1. ... 1. 0. 1.]\n"
          ]
        }
      ]
    },
    {
      "cell_type": "code",
      "metadata": {
        "id": "1DBwxe950v0E"
      },
      "source": [
        "corpus=df['tweet']\n",
        "from sklearn.feature_extraction.text import CountVectorizer\n",
        "cv = CountVectorizer()\n",
        "X = cv.fit_transform(corpus).toarray()"
      ],
      "execution_count": null,
      "outputs": []
    },
    {
      "cell_type": "markdown",
      "metadata": {
        "id": "KcXXhIKa1Yn6"
      },
      "source": [
        "# **Splitting the dataset into the Training set and Test set**"
      ]
    },
    {
      "cell_type": "code",
      "metadata": {
        "id": "pTbj7ZRT09Sc"
      },
      "source": [
        "X_train, X_test, y_train, y_test = train_test_split(X, y_hate, test_size = 0.30, random_state = 0)"
      ],
      "execution_count": null,
      "outputs": []
    },
    {
      "cell_type": "markdown",
      "metadata": {
        "id": "jF7QZbUl17A7"
      },
      "source": [
        "# ***Finding the best models to predict hate speech***\n",
        "\n",
        "**Naive Bayes**"
      ]
    },
    {
      "cell_type": "code",
      "metadata": {
        "id": "k6FddZTJ2Asc",
        "colab": {
          "base_uri": "https://localhost:8080/"
        },
        "outputId": "3520faa4-ee2f-4283-ffce-82e3c73617ef"
      },
      "source": [
        "classifier_np = GaussianNB()\n",
        "classifier_np.fit(X_train, y_train)"
      ],
      "execution_count": null,
      "outputs": [
        {
          "output_type": "execute_result",
          "data": {
            "text/plain": [
              "GaussianNB()"
            ]
          },
          "metadata": {},
          "execution_count": 29
        }
      ]
    },
    {
      "cell_type": "markdown",
      "metadata": {
        "id": "ZJWIgF_q2XXZ"
      },
      "source": [
        "**Decision Tree**"
      ]
    },
    {
      "cell_type": "code",
      "metadata": {
        "id": "eO24oz-42VX3",
        "colab": {
          "base_uri": "https://localhost:8080/"
        },
        "outputId": "340202f8-33dc-41e3-88be-ba6175be438e"
      },
      "source": [
        "classifier_dt = DecisionTreeClassifier(criterion = 'entropy', random_state = 0)\n",
        "classifier_dt.fit(X_train, y_train)"
      ],
      "execution_count": null,
      "outputs": [
        {
          "output_type": "execute_result",
          "data": {
            "text/plain": [
              "DecisionTreeClassifier(criterion='entropy', random_state=0)"
            ]
          },
          "metadata": {},
          "execution_count": 30
        }
      ]
    },
    {
      "cell_type": "markdown",
      "metadata": {
        "id": "gqObKpRs2aHg"
      },
      "source": [
        "**KNN**"
      ]
    },
    {
      "cell_type": "code",
      "metadata": {
        "id": "Xu-7U5XB2dAQ",
        "colab": {
          "base_uri": "https://localhost:8080/"
        },
        "outputId": "f53cccb2-f344-4fda-a225-c08b2d94ff8a"
      },
      "source": [
        "classifier_knn = KNeighborsClassifier(n_neighbors = 5, metric = 'minkowski', p = 2)\n",
        "classifier_knn.fit(X_train, y_train)"
      ],
      "execution_count": null,
      "outputs": [
        {
          "output_type": "execute_result",
          "data": {
            "text/plain": [
              "KNeighborsClassifier()"
            ]
          },
          "metadata": {},
          "execution_count": 31
        }
      ]
    },
    {
      "cell_type": "markdown",
      "metadata": {
        "id": "7BWEG9Rv2dX8"
      },
      "source": [
        "**Logistic Regression**"
      ]
    },
    {
      "cell_type": "code",
      "metadata": {
        "id": "9TfGziu42u_v",
        "colab": {
          "base_uri": "https://localhost:8080/"
        },
        "outputId": "d2cbe7c8-7a5b-466e-99b5-46937a2140b5"
      },
      "source": [
        "classifier_lr = LogisticRegression(random_state = 0)\n",
        "classifier_lr.fit(X_train, y_train)"
      ],
      "execution_count": null,
      "outputs": [
        {
          "output_type": "execute_result",
          "data": {
            "text/plain": [
              "LogisticRegression(random_state=0)"
            ]
          },
          "metadata": {},
          "execution_count": 32
        }
      ]
    },
    {
      "cell_type": "markdown",
      "metadata": {
        "id": "Y04x2H2s3Ad0"
      },
      "source": [
        "**Random Forest Classifier**"
      ]
    },
    {
      "cell_type": "code",
      "metadata": {
        "id": "n8_nafrG2_YK",
        "colab": {
          "base_uri": "https://localhost:8080/"
        },
        "outputId": "b08d509b-b1ff-4072-eac3-5c1fc3ad37b1"
      },
      "source": [
        "classifier_rf = RandomForestClassifier(n_estimators = 10, criterion = 'entropy', random_state = 0)\n",
        "classifier_rf.fit(X_train, y_train)"
      ],
      "execution_count": null,
      "outputs": [
        {
          "output_type": "execute_result",
          "data": {
            "text/plain": [
              "RandomForestClassifier(criterion='entropy', n_estimators=10, random_state=0)"
            ]
          },
          "metadata": {},
          "execution_count": 33
        }
      ]
    },
    {
      "cell_type": "markdown",
      "metadata": {
        "id": "bDkJqCwR3SAJ"
      },
      "source": [
        "**SVM Classifier**\n"
      ]
    },
    {
      "cell_type": "code",
      "metadata": {
        "id": "DYTGDJFm3URB",
        "colab": {
          "base_uri": "https://localhost:8080/"
        },
        "outputId": "2ef9d028-f82b-4c4c-c175-bfdd951e00d4"
      },
      "source": [
        "classifier_svm = svm.SVC()\n",
        "classifier_svm.fit(X_train, y_train)"
      ],
      "execution_count": null,
      "outputs": [
        {
          "output_type": "execute_result",
          "data": {
            "text/plain": [
              "SVC()"
            ]
          },
          "metadata": {},
          "execution_count": 34
        }
      ]
    },
    {
      "cell_type": "markdown",
      "metadata": {
        "id": "whhj9aWe3f6c"
      },
      "source": [
        "**XGBoost Classifier**"
      ]
    },
    {
      "cell_type": "code",
      "metadata": {
        "id": "klLx6z9P3a-y",
        "colab": {
          "base_uri": "https://localhost:8080/"
        },
        "outputId": "9ae44767-0433-4a2a-895c-028c93154378"
      },
      "source": [
        "classifier_xgb= XGBClassifier()\n",
        "classifier_xgb.fit(X_train, y_train)"
      ],
      "execution_count": null,
      "outputs": [
        {
          "output_type": "execute_result",
          "data": {
            "text/plain": [
              "XGBClassifier()"
            ]
          },
          "metadata": {},
          "execution_count": 35
        }
      ]
    },
    {
      "cell_type": "markdown",
      "metadata": {
        "id": "T7ZapeBNHwih"
      },
      "source": [
        "**Stochastic Gradient Classifier**"
      ]
    },
    {
      "cell_type": "code",
      "metadata": {
        "id": "jw8alsogH3rR"
      },
      "source": [
        "classifier_sgd= SGDClassifier()\n",
        "classifier_sgd.fit(X_train, y_train)"
      ],
      "execution_count": null,
      "outputs": []
    },
    {
      "cell_type": "markdown",
      "metadata": {
        "id": "c2_P62C033XT"
      },
      "source": [
        "**Adaboost Classifier**"
      ]
    },
    {
      "cell_type": "code",
      "metadata": {
        "colab": {
          "base_uri": "https://localhost:8080/"
        },
        "id": "MF3idrQ33i-b",
        "outputId": "49b39c49-fa58-408a-b801-6d9dac841ab2"
      },
      "source": [
        "classifier_ab= AdaBoostClassifier()\n",
        "classifier_ab.fit(X_train, y_train)\n"
      ],
      "execution_count": null,
      "outputs": [
        {
          "output_type": "execute_result",
          "data": {
            "text/plain": [
              "AdaBoostClassifier()"
            ]
          },
          "metadata": {},
          "execution_count": 36
        }
      ]
    },
    {
      "cell_type": "markdown",
      "metadata": {
        "id": "S0Fu8fvw44m_"
      },
      "source": [
        "**Making the Confusion Matrix for each model**"
      ]
    },
    {
      "cell_type": "code",
      "metadata": {
        "id": "Q3gvD93f4224",
        "colab": {
          "base_uri": "https://localhost:8080/"
        },
        "outputId": "7b3a1ff3-faed-42c2-c6c6-b93164c0ae63"
      },
      "source": [
        "#Naive Bayes\n",
        "y_pred_np = classifier_np.predict(X_test)\n",
        "cm = confusion_matrix(y_test, y_pred_np)\n",
        "print(cm)"
      ],
      "execution_count": null,
      "outputs": [
        {
          "output_type": "stream",
          "name": "stdout",
          "text": [
            "[[2668  603]\n",
            " [ 182   69]]\n"
          ]
        }
      ]
    },
    {
      "cell_type": "code",
      "metadata": {
        "id": "pB0EDn2H5I6V",
        "colab": {
          "base_uri": "https://localhost:8080/"
        },
        "outputId": "ed1d9839-d46e-4354-bd6a-288922a44c8a"
      },
      "source": [
        "#KNN\n",
        "y_pred_knn = classifier_knn.predict(X_test)\n",
        "cm = confusion_matrix(y_test, y_pred_knn)\n",
        "print(cm)"
      ],
      "execution_count": null,
      "outputs": [
        {
          "output_type": "stream",
          "name": "stdout",
          "text": [
            "[[3221   50]\n",
            " [ 218   33]]\n"
          ]
        }
      ]
    },
    {
      "cell_type": "code",
      "metadata": {
        "id": "D4o5Nvaf5JzW",
        "colab": {
          "base_uri": "https://localhost:8080/"
        },
        "outputId": "01661793-e431-4485-cdc5-c9e5cbfc8639"
      },
      "source": [
        "#XGBoost Classifier\n",
        "y_pred_xgb = classifier_xgb.predict(X_test)\n",
        "cm = confusion_matrix(y_test, y_pred_xgb)\n",
        "print(cm)"
      ],
      "execution_count": null,
      "outputs": [
        {
          "output_type": "stream",
          "name": "stdout",
          "text": [
            "[[3265    6]\n",
            " [ 238   13]]\n"
          ]
        }
      ]
    },
    {
      "cell_type": "code",
      "metadata": {
        "id": "GnkVusos5Pc-",
        "colab": {
          "base_uri": "https://localhost:8080/"
        },
        "outputId": "2c126a6b-dc6e-41bc-9bcd-452031059465"
      },
      "source": [
        "#SVM\n",
        "y_pred_svm = classifier_svm.predict(X_test)\n",
        "cm = confusion_matrix(y_test, y_pred_svm)\n",
        "print(cm)"
      ],
      "execution_count": null,
      "outputs": [
        {
          "output_type": "stream",
          "name": "stdout",
          "text": [
            "[[3271    0]\n",
            " [ 250    1]]\n"
          ]
        }
      ]
    },
    {
      "cell_type": "code",
      "metadata": {
        "id": "Kn4fPI-c5Y7V",
        "colab": {
          "base_uri": "https://localhost:8080/"
        },
        "outputId": "a9b5fc05-11d4-4772-fb6e-cae204b4d629"
      },
      "source": [
        "#Logistic Regression\n",
        "y_pred_lr=classifier_lr.predict(X_test)\n",
        "cm = confusion_matrix(y_test, y_pred_lr)\n",
        "print(cm)"
      ],
      "execution_count": null,
      "outputs": [
        {
          "output_type": "stream",
          "name": "stdout",
          "text": [
            "[[3230   41]\n",
            " [ 203   48]]\n"
          ]
        }
      ]
    },
    {
      "cell_type": "code",
      "metadata": {
        "id": "Jg25zpuS5a0y",
        "colab": {
          "base_uri": "https://localhost:8080/"
        },
        "outputId": "42ef8f23-2746-4305-8947-599c2fea4042"
      },
      "source": [
        "#Decision Tree\n",
        "y_pred_dt = classifier_dt.predict(X_test)\n",
        "cm = confusion_matrix(y_test, y_pred_dt)\n",
        "print(cm)"
      ],
      "execution_count": null,
      "outputs": [
        {
          "output_type": "stream",
          "name": "stdout",
          "text": [
            "[[3137  134]\n",
            " [ 166   85]]\n"
          ]
        }
      ]
    },
    {
      "cell_type": "code",
      "metadata": {
        "id": "JkeWku2m5SY7",
        "colab": {
          "base_uri": "https://localhost:8080/"
        },
        "outputId": "f50bf340-83f7-4a44-dacf-6c432365f4b5"
      },
      "source": [
        "#Random Forest\n",
        "y_pred_rf = classifier_rf.predict(X_test)\n",
        "cm = confusion_matrix(y_test, y_pred_rf)\n",
        "print(cm)\n"
      ],
      "execution_count": null,
      "outputs": [
        {
          "output_type": "stream",
          "name": "stdout",
          "text": [
            "[[3246   25]\n",
            " [ 230   21]]\n"
          ]
        }
      ]
    },
    {
      "cell_type": "code",
      "metadata": {
        "id": "9a2Z9H2sHhML"
      },
      "source": [
        "#Stochastic Gradient \n",
        "y_pred_sgd=classifier_sgd.predict(X_test)\n",
        "cm = confusion_matrix(y_test, y_pred_lr)\n",
        "print(cm)"
      ],
      "execution_count": null,
      "outputs": []
    },
    {
      "cell_type": "code",
      "metadata": {
        "id": "p1rnCqZbFeKU",
        "colab": {
          "base_uri": "https://localhost:8080/"
        },
        "outputId": "93ebb460-945a-44ad-c9bf-33b20a96d6f2"
      },
      "source": [
        "#Ada Boost\n",
        "y_pred_ab=classifier_ab.predict(X_test)\n",
        "cm = confusion_matrix(y_test, y_pred_lr)\n",
        "print(cm)"
      ],
      "execution_count": null,
      "outputs": [
        {
          "output_type": "stream",
          "name": "stdout",
          "text": [
            "[[3230   41]\n",
            " [ 203   48]]\n"
          ]
        }
      ]
    },
    {
      "cell_type": "code",
      "metadata": {
        "id": "ugo86DYI5mEi",
        "colab": {
          "base_uri": "https://localhost:8080/"
        },
        "outputId": "ab1ce1e4-e3a1-44bb-d744-eaff57112049"
      },
      "source": [
        "rf_score = accuracy_score(y_test, y_pred_rf)\n",
        "knn_score = accuracy_score(y_test, y_pred_knn)\n",
        "svm_score = accuracy_score(y_test, y_pred_svm)\n",
        "xgb_score = accuracy_score(y_test, y_pred_xgb)\n",
        "lr_score = accuracy_score(y_test, y_pred_lr)\n",
        "dt_score = accuracy_score(y_test, y_pred_dt)\n",
        "np_score = accuracy_score(y_test, y_pred_np)\n",
        "sgd_score = accuracy_score(y_test, y_pred_sgd)\n",
        "ab_score = accuracy_score(y_test, y_pred_ab)\n",
        "\n",
        "\n",
        "print('Random Forest Accuracy: ', str(rf_score))\n",
        "print('K Nearest Neighbours Accuracy: ', str(knn_score))\n",
        "print('Support Vector Machine Accuracy: ', str(svm_score))\n",
        "print('XGBoost Classifier Accuracy: ', str(xgb_score))\n",
        "print('Logistic Regression Accuracy: ',str(lr_score))\n",
        "print('Decision Tree Accuracy: ', str(dt_score))\n",
        "print('Naive Bayes Accuracy: ', str(np_score))\n",
        "print('Stochastic Gradient Classifier Accuracy: ', str(sgd_score))\n",
        "print('AdaBoost Classifier Accuracy: ', str(ab_score))"
      ],
      "execution_count": null,
      "outputs": [
        {
          "output_type": "stream",
          "name": "stdout",
          "text": [
            "Random Forest Accuracy:  0.9275979557069847\n",
            "K Nearest Neighbours Accuracy:  0.9239068710959683\n",
            "Support Vector Machine Accuracy:  0.9290176036342986\n",
            "XGBoost Classifier Accuracy:  0.9307211811470755\n",
            "Logistic Regression Accuracy:  0.9307211811470755\n",
            "Decision Tree Accuracy:  0.9148211243611585\n",
            "Naive Bayes Accuracy:  0.7771152754116979\n",
            "AdaBoost Classifier Accuracy:  0.9287336740488359\n"
          ]
        }
      ]
    },
    {
      "cell_type": "code",
      "metadata": {
        "id": "2qroRQvCzi9D"
      },
      "source": [
        "results.reset_index(drop = True)"
      ],
      "execution_count": null,
      "outputs": []
    },
    {
      "cell_type": "code",
      "metadata": {
        "id": "_zGtVdm8zlOD"
      },
      "source": [
        "results.describe().loc[['min', 'max'], :]"
      ],
      "execution_count": null,
      "outputs": []
    },
    {
      "cell_type": "code",
      "metadata": {
        "id": "SxXrTFZHx_6w"
      },
      "source": [
        "best_acc = results[results['Accuracy: Test'] == results['Accuracy: Test'].max()]\n",
        "best_f1 = results[results['F1 Score: Test'] == results['F1 Score: Test'].max()]\n",
        "best_precision = results[results['Precision: Test'] == results['Precision: Test'].max()]\n",
        "best_recall = results[results['Recall: Test'] == results['Recall: Test'].max()]"
      ],
      "execution_count": null,
      "outputs": []
    },
    {
      "cell_type": "markdown",
      "metadata": {
        "id": "0MMGzgx75p5y"
      },
      "source": [
        "So XGBoost Classifier looks better to predict hate speech based on this dataset. It's important to emphasize Random Forest, AdaBoost, KNN and Decision Tree had great results as well. This Dataset looks like a product of artificial intelligence to classify hate and offensive speech."
      ]
    },
    {
      "cell_type": "code",
      "metadata": {
        "id": "5Bh3YPZF5qMz",
        "colab": {
          "base_uri": "https://localhost:8080/"
        },
        "outputId": "ec4eb4ea-1106-4df7-cc73-0a45c58fb12e"
      },
      "source": [
        "#Now finally saving the model with XGB Classifier.\n",
        "import joblib\n",
        "joblib.dump(classifier_xgb, 'hatespeech.pkl')"
      ],
      "execution_count": null,
      "outputs": [
        {
          "output_type": "execute_result",
          "data": {
            "text/plain": [
              "['hatespeech.pkl']"
            ]
          },
          "metadata": {},
          "execution_count": 47
        }
      ]
    }
  ]
}